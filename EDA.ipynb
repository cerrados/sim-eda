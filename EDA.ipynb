{
 "cells": [
  {
   "cell_type": "markdown",
   "id": "04b826fd",
   "metadata": {},
   "source": [
    "# Dataset: Opensus -> System Information Mortality - Brazil. \n",
    "\n",
    "Ref: https://opendatasus.saude.gov.br/dataset/sim-2020-2021\n",
    "\n",
    "\"The Mortality Information System (SIM), developed by the Ministry of Health in 1975, is the product of the unification of more than forty Death Certificate models used over the years to collect data on mortality in the country. With its long series time, the SIM is a national heritage, since it has fundamental information so that we can know the aspects related to mortality in Brazil and the causes of illness that led to death. It is also one of the main instruments to support the elaboration of public policies more effective health and social security systems aimed at prevention, promotion and health care.\"\n",
    "https://svs.aids.gov.br/daent/cgiae/sim/apresentacao/"
   ]
  },
  {
   "cell_type": "markdown",
   "id": "d8a1954f",
   "metadata": {},
   "source": [
    "## Import packages and load data"
   ]
  },
  {
   "cell_type": "code",
   "execution_count": 1,
   "id": "a182d059",
   "metadata": {
    "ExecuteTime": {
     "end_time": "2023-03-22T02:06:28.860038Z",
     "start_time": "2023-03-22T02:06:27.655503Z"
    }
   },
   "outputs": [],
   "source": [
    "import numpy as np\n",
    "import pandas as pd\n",
    "import matplotlib.pyplot as plt\n",
    "import seaborn as sns\n",
    "import warnings\n",
    "warnings.filterwarnings(\"ignore\")"
   ]
  },
  {
   "cell_type": "code",
   "execution_count": 2,
   "id": "538bbb53",
   "metadata": {
    "ExecuteTime": {
     "end_time": "2023-03-22T02:06:28.887790Z",
     "start_time": "2023-03-22T02:06:28.862131Z"
    }
   },
   "outputs": [
    {
     "name": "stdout",
     "output_type": "stream",
     "text": [
      "Author: Rodrigo S. Pereira\n",
      "\n",
      "matplotlib: 3.6.0\n",
      "pandas    : 1.4.1\n",
      "seaborn   : 0.11.2\n",
      "numpy     : 1.24.2\n",
      "\n"
     ]
    }
   ],
   "source": [
    "%reload_ext watermark\n",
    "%watermark -a \"Rodrigo S. Pereira\" --iversions"
   ]
  },
  {
   "cell_type": "code",
   "execution_count": 3,
   "id": "9283fc03",
   "metadata": {
    "ExecuteTime": {
     "end_time": "2023-03-22T02:06:29.965630Z",
     "start_time": "2023-03-22T02:06:28.889760Z"
    },
    "scrolled": true
   },
   "outputs": [],
   "source": [
    "# Load the dataset\n",
    "data = pd.read_parquet('data/DO22OPEN.parquet', engine='pyarrow')"
   ]
  },
  {
   "cell_type": "code",
   "execution_count": 4,
   "id": "9073e2c6",
   "metadata": {
    "ExecuteTime": {
     "end_time": "2023-03-22T02:06:29.999461Z",
     "start_time": "2023-03-22T02:06:29.967836Z"
    },
    "scrolled": true
   },
   "outputs": [
    {
     "data": {
      "text/html": [
       "<div>\n",
       "<style scoped>\n",
       "    .dataframe tbody tr th:only-of-type {\n",
       "        vertical-align: middle;\n",
       "    }\n",
       "\n",
       "    .dataframe tbody tr th {\n",
       "        vertical-align: top;\n",
       "    }\n",
       "\n",
       "    .dataframe thead th {\n",
       "        text-align: right;\n",
       "    }\n",
       "</style>\n",
       "<table border=\"1\" class=\"dataframe\">\n",
       "  <thead>\n",
       "    <tr style=\"text-align: right;\">\n",
       "      <th></th>\n",
       "      <th>contador</th>\n",
       "      <th>ORIGEM</th>\n",
       "      <th>TIPOBITO</th>\n",
       "      <th>DTOBITO</th>\n",
       "      <th>HORAOBITO</th>\n",
       "      <th>NATURAL</th>\n",
       "      <th>CODMUNNATU</th>\n",
       "      <th>DTNASC</th>\n",
       "      <th>IDADE</th>\n",
       "      <th>SEXO</th>\n",
       "      <th>...</th>\n",
       "      <th>TPRESGINFO</th>\n",
       "      <th>TPNIVELINV</th>\n",
       "      <th>DTCADINF</th>\n",
       "      <th>MORTEPARTO</th>\n",
       "      <th>DTCONCASO</th>\n",
       "      <th>ALTCAUSA</th>\n",
       "      <th>CAUSABAS_O</th>\n",
       "      <th>TPPOS</th>\n",
       "      <th>TP_ALTERA</th>\n",
       "      <th>CB_ALT</th>\n",
       "    </tr>\n",
       "  </thead>\n",
       "  <tbody>\n",
       "    <tr>\n",
       "      <th>0</th>\n",
       "      <td>1</td>\n",
       "      <td>1</td>\n",
       "      <td>2</td>\n",
       "      <td>14012022</td>\n",
       "      <td>NaN</td>\n",
       "      <td>831.0</td>\n",
       "      <td>316470.0</td>\n",
       "      <td>22051942.0</td>\n",
       "      <td>479.0</td>\n",
       "      <td>1</td>\n",
       "      <td>...</td>\n",
       "      <td>NaN</td>\n",
       "      <td>None</td>\n",
       "      <td>NaN</td>\n",
       "      <td>NaN</td>\n",
       "      <td>NaN</td>\n",
       "      <td>NaN</td>\n",
       "      <td>C229</td>\n",
       "      <td>N</td>\n",
       "      <td>NaN</td>\n",
       "      <td>None</td>\n",
       "    </tr>\n",
       "    <tr>\n",
       "      <th>1</th>\n",
       "      <td>2</td>\n",
       "      <td>1</td>\n",
       "      <td>2</td>\n",
       "      <td>15012022</td>\n",
       "      <td>1350.0</td>\n",
       "      <td>NaN</td>\n",
       "      <td>NaN</td>\n",
       "      <td>17042001.0</td>\n",
       "      <td>420.0</td>\n",
       "      <td>1</td>\n",
       "      <td>...</td>\n",
       "      <td>NaN</td>\n",
       "      <td>None</td>\n",
       "      <td>NaN</td>\n",
       "      <td>NaN</td>\n",
       "      <td>NaN</td>\n",
       "      <td>NaN</td>\n",
       "      <td>Y299</td>\n",
       "      <td>N</td>\n",
       "      <td>NaN</td>\n",
       "      <td>None</td>\n",
       "    </tr>\n",
       "    <tr>\n",
       "      <th>2</th>\n",
       "      <td>3</td>\n",
       "      <td>1</td>\n",
       "      <td>2</td>\n",
       "      <td>19012022</td>\n",
       "      <td>630.0</td>\n",
       "      <td>835.0</td>\n",
       "      <td>352700.0</td>\n",
       "      <td>24061930.0</td>\n",
       "      <td>491.0</td>\n",
       "      <td>1</td>\n",
       "      <td>...</td>\n",
       "      <td>NaN</td>\n",
       "      <td>None</td>\n",
       "      <td>NaN</td>\n",
       "      <td>NaN</td>\n",
       "      <td>NaN</td>\n",
       "      <td>NaN</td>\n",
       "      <td>B342</td>\n",
       "      <td>S</td>\n",
       "      <td>NaN</td>\n",
       "      <td>None</td>\n",
       "    </tr>\n",
       "    <tr>\n",
       "      <th>3</th>\n",
       "      <td>4</td>\n",
       "      <td>1</td>\n",
       "      <td>2</td>\n",
       "      <td>23012022</td>\n",
       "      <td>315.0</td>\n",
       "      <td>835.0</td>\n",
       "      <td>350030.0</td>\n",
       "      <td>6071931.0</td>\n",
       "      <td>490.0</td>\n",
       "      <td>2</td>\n",
       "      <td>...</td>\n",
       "      <td>NaN</td>\n",
       "      <td>None</td>\n",
       "      <td>NaN</td>\n",
       "      <td>NaN</td>\n",
       "      <td>NaN</td>\n",
       "      <td>NaN</td>\n",
       "      <td>B342</td>\n",
       "      <td>N</td>\n",
       "      <td>NaN</td>\n",
       "      <td>None</td>\n",
       "    </tr>\n",
       "    <tr>\n",
       "      <th>4</th>\n",
       "      <td>5</td>\n",
       "      <td>1</td>\n",
       "      <td>2</td>\n",
       "      <td>21012022</td>\n",
       "      <td>2151.0</td>\n",
       "      <td>825.0</td>\n",
       "      <td>250110.0</td>\n",
       "      <td>17121920.0</td>\n",
       "      <td>501.0</td>\n",
       "      <td>1</td>\n",
       "      <td>...</td>\n",
       "      <td>NaN</td>\n",
       "      <td>None</td>\n",
       "      <td>NaN</td>\n",
       "      <td>NaN</td>\n",
       "      <td>NaN</td>\n",
       "      <td>NaN</td>\n",
       "      <td>B342</td>\n",
       "      <td>S</td>\n",
       "      <td>NaN</td>\n",
       "      <td>None</td>\n",
       "    </tr>\n",
       "  </tbody>\n",
       "</table>\n",
       "<p>5 rows × 86 columns</p>\n",
       "</div>"
      ],
      "text/plain": [
       "   contador  ORIGEM  TIPOBITO   DTOBITO  HORAOBITO  NATURAL  CODMUNNATU  \\\n",
       "0         1       1         2  14012022        NaN    831.0    316470.0   \n",
       "1         2       1         2  15012022     1350.0      NaN         NaN   \n",
       "2         3       1         2  19012022      630.0    835.0    352700.0   \n",
       "3         4       1         2  23012022      315.0    835.0    350030.0   \n",
       "4         5       1         2  21012022     2151.0    825.0    250110.0   \n",
       "\n",
       "       DTNASC  IDADE  SEXO  ...  TPRESGINFO  TPNIVELINV  DTCADINF  MORTEPARTO  \\\n",
       "0  22051942.0  479.0     1  ...         NaN        None       NaN         NaN   \n",
       "1  17042001.0  420.0     1  ...         NaN        None       NaN         NaN   \n",
       "2  24061930.0  491.0     1  ...         NaN        None       NaN         NaN   \n",
       "3   6071931.0  490.0     2  ...         NaN        None       NaN         NaN   \n",
       "4  17121920.0  501.0     1  ...         NaN        None       NaN         NaN   \n",
       "\n",
       "   DTCONCASO  ALTCAUSA  CAUSABAS_O  TPPOS  TP_ALTERA  CB_ALT  \n",
       "0        NaN       NaN        C229      N        NaN    None  \n",
       "1        NaN       NaN        Y299      N        NaN    None  \n",
       "2        NaN       NaN        B342      S        NaN    None  \n",
       "3        NaN       NaN        B342      N        NaN    None  \n",
       "4        NaN       NaN        B342      S        NaN    None  \n",
       "\n",
       "[5 rows x 86 columns]"
      ]
     },
     "execution_count": 4,
     "metadata": {},
     "output_type": "execute_result"
    }
   ],
   "source": [
    "data.head()"
   ]
  },
  {
   "cell_type": "code",
   "execution_count": 5,
   "id": "43165d5d",
   "metadata": {
    "ExecuteTime": {
     "end_time": "2023-03-22T02:06:30.093438Z",
     "start_time": "2023-03-22T02:06:30.000713Z"
    },
    "scrolled": true
   },
   "outputs": [
    {
     "name": "stdout",
     "output_type": "stream",
     "text": [
      "The data Shape n_rows and n_cols are: (1031744, 86)\n"
     ]
    }
   ],
   "source": [
    "print(f'The data Shape n_rows and n_cols are: {data.shape}')"
   ]
  },
  {
   "cell_type": "markdown",
   "id": "775732c0",
   "metadata": {},
   "source": [
    "## Data Preparations"
   ]
  },
  {
   "cell_type": "code",
   "execution_count": 6,
   "id": "92c1e92f",
   "metadata": {
    "ExecuteTime": {
     "end_time": "2023-03-22T02:06:30.194486Z",
     "start_time": "2023-03-22T02:06:30.095364Z"
    }
   },
   "outputs": [
    {
     "data": {
      "text/plain": [
       "Index(['contador', 'ORIGEM', 'TIPOBITO', 'DTOBITO', 'HORAOBITO', 'NATURAL',\n",
       "       'CODMUNNATU', 'DTNASC', 'IDADE', 'SEXO', 'RACACOR', 'ESTCIV', 'ESC',\n",
       "       'ESC2010', 'SERIESCFAL', 'OCUP', 'CODMUNRES', 'LOCOCOR', 'CODESTAB',\n",
       "       'CODMUNOCOR', 'IDADEMAE', 'ESCMAE', 'ESCMAE2010', 'SERIESCMAE',\n",
       "       'OCUPMAE', 'QTDFILVIVO', 'QTDFILMORT', 'GRAVIDEZ', 'SEMAGESTAC',\n",
       "       'GESTACAO', 'PARTO', 'OBITOPARTO', 'PESO', 'TPMORTEOCO', 'OBITOGRAV',\n",
       "       'OBITOPUERP', 'ASSISTMED', 'EXAME', 'CIRURGIA', 'NECROPSIA', 'LINHAA',\n",
       "       'LINHAB', 'LINHAC', 'LINHAD', 'LINHAII', 'CAUSABAS', 'CB_PRE',\n",
       "       'COMUNSVOIM', 'DTATESTADO', 'CIRCOBITO', 'ACIDTRAB', 'FONTE',\n",
       "       'NUMEROLOTE', 'DTINVESTIG', 'DTCADASTRO', 'ATESTANTE', 'STCODIFICA',\n",
       "       'CODIFICADO', 'VERSAOSIST', 'VERSAOSCB', 'FONTEINV', 'DTRECEBIM',\n",
       "       'ATESTADO', 'DTRECORIGA', 'OPOR_DO', 'CAUSAMAT', 'ESCMAEAGR1',\n",
       "       'ESCFALAGR1', 'STDOEPIDEM', 'STDONOVA', 'DIFDATA', 'NUDIASOBCO',\n",
       "       'DTCADINV', 'TPOBITOCOR', 'DTCONINV', 'FONTES', 'TPRESGINFO',\n",
       "       'TPNIVELINV', 'DTCADINF', 'MORTEPARTO', 'DTCONCASO', 'ALTCAUSA',\n",
       "       'CAUSABAS_O', 'TPPOS', 'TP_ALTERA', 'CB_ALT'],\n",
       "      dtype='object')"
      ]
     },
     "execution_count": 6,
     "metadata": {},
     "output_type": "execute_result"
    }
   ],
   "source": [
    "# Verify the columns:\n",
    "data.columns"
   ]
  },
  {
   "cell_type": "markdown",
   "id": "f3b410d3",
   "metadata": {},
   "source": [
    "Notes: \n",
    "    - The data set has a total of **1031744 records** and **86 variables**; \n",
    "    - From the variables present in the original dataset, we can exclude `contador`, `ORIGEM`;\n",
    "   \n",
    "Select the variable for the fisrt analysis:   \n",
    "    - `TIPOBITO`: Fetal/Nao Fetal;  \n",
    "    - `DTOBITO`: Data do óbito formato ddmmaaa.  \n",
    "    - `DTNASC`: Data do nascimento do falecido, formato ddmmaaaa.   \n",
    "    - `IDADE`: Idade do falecido em minutos, horas, dias, meses ou anos.  \n",
    ".    - `SEXO`:.  \n",
    "    - `RACACOR`: raça e cor.  \n",
    "    - `ESTCIV`: estado civil.  \n",
    "    - `ESC2010`: nível da escolaridade.  \n",
    "    - `ESC`: Escolaridade por tempo.  \n",
    "    - `OCUP`: Tipo de trabalho que o falecido desenvolveu na maior parte de sua vida\n",
    "            produtiva.  \n",
    "    - `LOCOCOR`: Local de ocorrencia do óbito.  \n",
    "    - `CODMUNOCOR`: código do municipio onde ocorreu o óbito.  \n",
    "    - `OBITOGRAV`: Óbito na gravidez.  \n",
    "    - `OBITOPUERP`: Óbito no puerpério.  \n",
    "    - `LINHAA`:.  \n",
    "    - `LINHAB`:.   \n",
    "    - `LINHAC`:.  \n",
    "    - `LINHAD`:.  \n",
    "    - `LINHAII`:.  \n",
    "    - `CAUSABAS`: Causa básica da DO.   \n",
    "    - `CIRCOBITO`: Tipo de morte violenta ou circunstâncias em que se deu a morte não natural.  \n",
    "    - `ACIDTRAB`: Indica se o evento que desencadeou o óbito está relacionado ao processo de\n",
    "                trabalho.  \n",
    "    - `ASSISTMED`: assistencia médica antes da ocorrencia do óbito.  \n",
    "    \n",
    "    "
   ]
  },
  {
   "cell_type": "code",
   "execution_count": 7,
   "id": "6ff0b6b1",
   "metadata": {
    "ExecuteTime": {
     "end_time": "2023-03-22T02:06:30.293024Z",
     "start_time": "2023-03-22T02:06:30.196893Z"
    }
   },
   "outputs": [],
   "source": [
    "# Select the variables for this first data exploratory: \n",
    "select_var = ['TIPOBITO', 'DTOBITO', 'DTNASC', 'IDADE', 'SEXO', 'RACACOR', 'ESTCIV','ESC2010',\n",
    "             'ESC', 'OCUP', 'LOCOCOR', 'CODMUNOCOR', 'OBITOGRAV', 'OBITOPUERP', 'LINHAA', 'LINHAB',\n",
    "             'LINHAC', 'LINHAD', 'LINHAII', 'CAUSABAS', 'CIRCOBITO', 'ACIDTRAB', 'ASSISTMED']"
   ]
  },
  {
   "cell_type": "markdown",
   "id": "b7e4962f",
   "metadata": {},
   "source": [
    "**Put here some explanation, why this select_var set** #########"
   ]
  },
  {
   "cell_type": "code",
   "execution_count": 8,
   "id": "87fc5981",
   "metadata": {
    "ExecuteTime": {
     "end_time": "2023-03-22T02:06:30.500305Z",
     "start_time": "2023-03-22T02:06:30.294505Z"
    }
   },
   "outputs": [
    {
     "data": {
      "text/plain": [
       "(1031744, 23)"
      ]
     },
     "execution_count": 8,
     "metadata": {},
     "output_type": "execute_result"
    }
   ],
   "source": [
    "df = data[select_var]\n",
    "df.shape"
   ]
  },
  {
   "cell_type": "code",
   "execution_count": 9,
   "id": "8dcf2c02",
   "metadata": {
    "ExecuteTime": {
     "end_time": "2023-03-22T02:06:30.544011Z",
     "start_time": "2023-03-22T02:06:30.501488Z"
    }
   },
   "outputs": [],
   "source": [
    "# Function for count and return new dataframe with the relation about null values\n",
    "def count_df_null(data):\n",
    "    df_l = pd.DataFrame(data.isnull().sum().sort_values(), columns=['Total null'])\n",
    "    df_l['%'] = df_l['Total null']/data.shape[0]*100\n",
    "    return df_l"
   ]
  },
  {
   "cell_type": "code",
   "execution_count": 10,
   "id": "9be18adb",
   "metadata": {
    "ExecuteTime": {
     "end_time": "2023-03-22T02:06:31.442120Z",
     "start_time": "2023-03-22T02:06:30.550056Z"
    }
   },
   "outputs": [
    {
     "data": {
      "text/html": [
       "<div>\n",
       "<style scoped>\n",
       "    .dataframe tbody tr th:only-of-type {\n",
       "        vertical-align: middle;\n",
       "    }\n",
       "\n",
       "    .dataframe tbody tr th {\n",
       "        vertical-align: top;\n",
       "    }\n",
       "\n",
       "    .dataframe thead th {\n",
       "        text-align: right;\n",
       "    }\n",
       "</style>\n",
       "<table border=\"1\" class=\"dataframe\">\n",
       "  <thead>\n",
       "    <tr style=\"text-align: right;\">\n",
       "      <th></th>\n",
       "      <th>Total null</th>\n",
       "      <th>%</th>\n",
       "    </tr>\n",
       "  </thead>\n",
       "  <tbody>\n",
       "    <tr>\n",
       "      <th>TIPOBITO</th>\n",
       "      <td>0</td>\n",
       "      <td>0.000000</td>\n",
       "    </tr>\n",
       "    <tr>\n",
       "      <th>CAUSABAS</th>\n",
       "      <td>0</td>\n",
       "      <td>0.000000</td>\n",
       "    </tr>\n",
       "    <tr>\n",
       "      <th>LOCOCOR</th>\n",
       "      <td>0</td>\n",
       "      <td>0.000000</td>\n",
       "    </tr>\n",
       "    <tr>\n",
       "      <th>SEXO</th>\n",
       "      <td>0</td>\n",
       "      <td>0.000000</td>\n",
       "    </tr>\n",
       "    <tr>\n",
       "      <th>CODMUNOCOR</th>\n",
       "      <td>0</td>\n",
       "      <td>0.000000</td>\n",
       "    </tr>\n",
       "    <tr>\n",
       "      <th>DTOBITO</th>\n",
       "      <td>0</td>\n",
       "      <td>0.000000</td>\n",
       "    </tr>\n",
       "    <tr>\n",
       "      <th>IDADE</th>\n",
       "      <td>17718</td>\n",
       "      <td>1.717286</td>\n",
       "    </tr>\n",
       "    <tr>\n",
       "      <th>DTNASC</th>\n",
       "      <td>19701</td>\n",
       "      <td>1.909485</td>\n",
       "    </tr>\n",
       "    <tr>\n",
       "      <th>LINHAA</th>\n",
       "      <td>32587</td>\n",
       "      <td>3.158439</td>\n",
       "    </tr>\n",
       "    <tr>\n",
       "      <th>RACACOR</th>\n",
       "      <td>38227</td>\n",
       "      <td>3.705086</td>\n",
       "    </tr>\n",
       "    <tr>\n",
       "      <th>ESTCIV</th>\n",
       "      <td>64743</td>\n",
       "      <td>6.275103</td>\n",
       "    </tr>\n",
       "    <tr>\n",
       "      <th>ESC</th>\n",
       "      <td>82627</td>\n",
       "      <td>8.008479</td>\n",
       "    </tr>\n",
       "    <tr>\n",
       "      <th>ESC2010</th>\n",
       "      <td>88057</td>\n",
       "      <td>8.534772</td>\n",
       "    </tr>\n",
       "    <tr>\n",
       "      <th>OCUP</th>\n",
       "      <td>162022</td>\n",
       "      <td>15.703702</td>\n",
       "    </tr>\n",
       "    <tr>\n",
       "      <th>LINHAB</th>\n",
       "      <td>265350</td>\n",
       "      <td>25.718589</td>\n",
       "    </tr>\n",
       "    <tr>\n",
       "      <th>ASSISTMED</th>\n",
       "      <td>327136</td>\n",
       "      <td>31.707090</td>\n",
       "    </tr>\n",
       "    <tr>\n",
       "      <th>LINHAC</th>\n",
       "      <td>566790</td>\n",
       "      <td>54.935139</td>\n",
       "    </tr>\n",
       "    <tr>\n",
       "      <th>LINHAII</th>\n",
       "      <td>605496</td>\n",
       "      <td>58.686651</td>\n",
       "    </tr>\n",
       "    <tr>\n",
       "      <th>LINHAD</th>\n",
       "      <td>838666</td>\n",
       "      <td>81.286249</td>\n",
       "    </tr>\n",
       "    <tr>\n",
       "      <th>CIRCOBITO</th>\n",
       "      <td>939653</td>\n",
       "      <td>91.074239</td>\n",
       "    </tr>\n",
       "    <tr>\n",
       "      <th>OBITOGRAV</th>\n",
       "      <td>975345</td>\n",
       "      <td>94.533625</td>\n",
       "    </tr>\n",
       "    <tr>\n",
       "      <th>OBITOPUERP</th>\n",
       "      <td>975349</td>\n",
       "      <td>94.534012</td>\n",
       "    </tr>\n",
       "    <tr>\n",
       "      <th>ACIDTRAB</th>\n",
       "      <td>1002994</td>\n",
       "      <td>97.213456</td>\n",
       "    </tr>\n",
       "  </tbody>\n",
       "</table>\n",
       "</div>"
      ],
      "text/plain": [
       "            Total null          %\n",
       "TIPOBITO             0   0.000000\n",
       "CAUSABAS             0   0.000000\n",
       "LOCOCOR              0   0.000000\n",
       "SEXO                 0   0.000000\n",
       "CODMUNOCOR           0   0.000000\n",
       "DTOBITO              0   0.000000\n",
       "IDADE            17718   1.717286\n",
       "DTNASC           19701   1.909485\n",
       "LINHAA           32587   3.158439\n",
       "RACACOR          38227   3.705086\n",
       "ESTCIV           64743   6.275103\n",
       "ESC              82627   8.008479\n",
       "ESC2010          88057   8.534772\n",
       "OCUP            162022  15.703702\n",
       "LINHAB          265350  25.718589\n",
       "ASSISTMED       327136  31.707090\n",
       "LINHAC          566790  54.935139\n",
       "LINHAII         605496  58.686651\n",
       "LINHAD          838666  81.286249\n",
       "CIRCOBITO       939653  91.074239\n",
       "OBITOGRAV       975345  94.533625\n",
       "OBITOPUERP      975349  94.534012\n",
       "ACIDTRAB       1002994  97.213456"
      ]
     },
     "execution_count": 10,
     "metadata": {},
     "output_type": "execute_result"
    }
   ],
   "source": [
    "# Verify the value null in all dataframe and that % of total observations\n",
    "count_df_null(df)"
   ]
  },
  {
   "cell_type": "markdown",
   "id": "b618894d",
   "metadata": {},
   "source": [
    "* We consider trunced variable with no more with 20% of lost data. "
   ]
  },
  {
   "cell_type": "code",
   "execution_count": 11,
   "id": "7d605d36",
   "metadata": {
    "ExecuteTime": {
     "end_time": "2023-03-22T02:06:33.047779Z",
     "start_time": "2023-03-22T02:06:31.443871Z"
    }
   },
   "outputs": [
    {
     "data": {
      "text/plain": [
       "array(['TIPOBITO', 'CAUSABAS', 'LOCOCOR', 'SEXO', 'CODMUNOCOR', 'DTOBITO',\n",
       "       'IDADE', 'DTNASC', 'LINHAA', 'RACACOR', 'ESTCIV', 'ESC', 'ESC2010',\n",
       "       'OCUP'], dtype=object)"
      ]
     },
     "execution_count": 11,
     "metadata": {},
     "output_type": "execute_result"
    }
   ],
   "source": [
    "select_var = count_df_null(df)[count_df_null(df)['%'] < 20].index.values\n",
    "select_var"
   ]
  },
  {
   "cell_type": "code",
   "execution_count": 12,
   "id": "da21b134",
   "metadata": {
    "ExecuteTime": {
     "end_time": "2023-03-22T02:06:33.408136Z",
     "start_time": "2023-03-22T02:06:33.049759Z"
    }
   },
   "outputs": [
    {
     "name": "stdout",
     "output_type": "stream",
     "text": [
      "<class 'pandas.core.frame.DataFrame'>\n",
      "RangeIndex: 1031744 entries, 0 to 1031743\n",
      "Data columns (total 14 columns):\n",
      " #   Column      Non-Null Count    Dtype  \n",
      "---  ------      --------------    -----  \n",
      " 0   TIPOBITO    1031744 non-null  int64  \n",
      " 1   CAUSABAS    1031744 non-null  object \n",
      " 2   LOCOCOR     1031744 non-null  int64  \n",
      " 3   SEXO        1031744 non-null  int64  \n",
      " 4   CODMUNOCOR  1031744 non-null  int64  \n",
      " 5   DTOBITO     1031744 non-null  int64  \n",
      " 6   IDADE       1014026 non-null  float64\n",
      " 7   DTNASC      1012043 non-null  float64\n",
      " 8   LINHAA      999157 non-null   object \n",
      " 9   RACACOR     993517 non-null   float64\n",
      " 10  ESTCIV      967001 non-null   float64\n",
      " 11  ESC         949117 non-null   float64\n",
      " 12  ESC2010     943687 non-null   float64\n",
      " 13  OCUP        869722 non-null   float64\n",
      "dtypes: float64(7), int64(5), object(2)\n",
      "memory usage: 110.2+ MB\n"
     ]
    }
   ],
   "source": [
    "# Filtering the data by select_var and atribute to new df2: \n",
    "df2 = df[select_var]\n",
    "df2.info()"
   ]
  },
  {
   "cell_type": "markdown",
   "id": "a14410cc",
   "metadata": {},
   "source": [
    "Select process for the representative variable, now we need to work on the change some data for put in better visualization and a post processing of the exploratory data. \n",
    "\n",
    "Relation of the select variable and how is the process for apply: \n",
    "* `TIPOBITO`: Change the number 1 to fetal and 2 to not fetal."
   ]
  },
  {
   "cell_type": "code",
   "execution_count": 13,
   "id": "b71de0df",
   "metadata": {
    "ExecuteTime": {
     "end_time": "2023-03-22T02:06:33.649567Z",
     "start_time": "2023-03-22T02:06:33.409645Z"
    }
   },
   "outputs": [],
   "source": [
    "# Ajustment of var TIPOBITO: \n",
    "df2.TIPOBITO = df2.TIPOBITO.replace(2, 'Not_Fetal')\n",
    "df2.TIPOBITO = df2.TIPOBITO.replace(1, 'Fetal')"
   ]
  },
  {
   "cell_type": "code",
   "execution_count": 14,
   "id": "d2306451",
   "metadata": {
    "ExecuteTime": {
     "end_time": "2023-03-22T02:06:33.656741Z",
     "start_time": "2023-03-22T02:06:33.652108Z"
    },
    "scrolled": true
   },
   "outputs": [
    {
     "name": "stdout",
     "output_type": "stream",
     "text": [
      "The new data df2 Shape n_rows and n_cols are: (1031744, 14)\n"
     ]
    }
   ],
   "source": [
    "df2.shape\n",
    "print(f'The new data df2 Shape n_rows and n_cols are: {df2.shape}')"
   ]
  },
  {
   "cell_type": "code",
   "execution_count": 15,
   "id": "446ff1e6",
   "metadata": {
    "ExecuteTime": {
     "end_time": "2023-03-22T02:06:33.769163Z",
     "start_time": "2023-03-22T02:06:33.658622Z"
    },
    "scrolled": true
   },
   "outputs": [
    {
     "data": {
      "text/html": [
       "<div>\n",
       "<style scoped>\n",
       "    .dataframe tbody tr th:only-of-type {\n",
       "        vertical-align: middle;\n",
       "    }\n",
       "\n",
       "    .dataframe tbody tr th {\n",
       "        vertical-align: top;\n",
       "    }\n",
       "\n",
       "    .dataframe thead th {\n",
       "        text-align: right;\n",
       "    }\n",
       "</style>\n",
       "<table border=\"1\" class=\"dataframe\">\n",
       "  <thead>\n",
       "    <tr style=\"text-align: right;\">\n",
       "      <th></th>\n",
       "      <th>TIPOBITO</th>\n",
       "      <th>CAUSABAS</th>\n",
       "      <th>LOCOCOR</th>\n",
       "      <th>SEXO</th>\n",
       "      <th>CODMUNOCOR</th>\n",
       "      <th>DTOBITO</th>\n",
       "      <th>IDADE</th>\n",
       "      <th>DTNASC</th>\n",
       "      <th>LINHAA</th>\n",
       "      <th>RACACOR</th>\n",
       "      <th>ESTCIV</th>\n",
       "      <th>ESC</th>\n",
       "      <th>ESC2010</th>\n",
       "      <th>OCUP</th>\n",
       "    </tr>\n",
       "  </thead>\n",
       "  <tbody>\n",
       "    <tr>\n",
       "      <th>0</th>\n",
       "      <td>Not_Fetal</td>\n",
       "      <td>C229</td>\n",
       "      <td>3</td>\n",
       "      <td>1</td>\n",
       "      <td>352050</td>\n",
       "      <td>14012022</td>\n",
       "      <td>479.0</td>\n",
       "      <td>22051942.0</td>\n",
       "      <td>*J180</td>\n",
       "      <td>1.0</td>\n",
       "      <td>NaN</td>\n",
       "      <td>9.0</td>\n",
       "      <td>9.0</td>\n",
       "      <td>999993.0</td>\n",
       "    </tr>\n",
       "    <tr>\n",
       "      <th>1</th>\n",
       "      <td>Not_Fetal</td>\n",
       "      <td>Y299</td>\n",
       "      <td>1</td>\n",
       "      <td>1</td>\n",
       "      <td>355620</td>\n",
       "      <td>15012022</td>\n",
       "      <td>420.0</td>\n",
       "      <td>17042001.0</td>\n",
       "      <td>*S069</td>\n",
       "      <td>1.0</td>\n",
       "      <td>1.0</td>\n",
       "      <td>9.0</td>\n",
       "      <td>9.0</td>\n",
       "      <td>NaN</td>\n",
       "    </tr>\n",
       "    <tr>\n",
       "      <th>2</th>\n",
       "      <td>Not_Fetal</td>\n",
       "      <td>B342</td>\n",
       "      <td>1</td>\n",
       "      <td>1</td>\n",
       "      <td>350950</td>\n",
       "      <td>19012022</td>\n",
       "      <td>491.0</td>\n",
       "      <td>24061930.0</td>\n",
       "      <td>*J960</td>\n",
       "      <td>1.0</td>\n",
       "      <td>2.0</td>\n",
       "      <td>3.0</td>\n",
       "      <td>1.0</td>\n",
       "      <td>999993.0</td>\n",
       "    </tr>\n",
       "  </tbody>\n",
       "</table>\n",
       "</div>"
      ],
      "text/plain": [
       "    TIPOBITO CAUSABAS  LOCOCOR  SEXO  CODMUNOCOR   DTOBITO  IDADE      DTNASC  \\\n",
       "0  Not_Fetal     C229        3     1      352050  14012022  479.0  22051942.0   \n",
       "1  Not_Fetal     Y299        1     1      355620  15012022  420.0  17042001.0   \n",
       "2  Not_Fetal     B342        1     1      350950  19012022  491.0  24061930.0   \n",
       "\n",
       "  LINHAA  RACACOR  ESTCIV  ESC  ESC2010      OCUP  \n",
       "0  *J180      1.0     NaN  9.0      9.0  999993.0  \n",
       "1  *S069      1.0     1.0  9.0      9.0       NaN  \n",
       "2  *J960      1.0     2.0  3.0      1.0  999993.0  "
      ]
     },
     "execution_count": 15,
     "metadata": {},
     "output_type": "execute_result"
    }
   ],
   "source": [
    "df2.head(3)"
   ]
  },
  {
   "cell_type": "code",
   "execution_count": 16,
   "id": "9e263f30",
   "metadata": {
    "ExecuteTime": {
     "end_time": "2023-03-22T02:06:34.271169Z",
     "start_time": "2023-03-22T02:06:33.771526Z"
    }
   },
   "outputs": [
    {
     "data": {
      "text/html": [
       "<div>\n",
       "<style scoped>\n",
       "    .dataframe tbody tr th:only-of-type {\n",
       "        vertical-align: middle;\n",
       "    }\n",
       "\n",
       "    .dataframe tbody tr th {\n",
       "        vertical-align: top;\n",
       "    }\n",
       "\n",
       "    .dataframe thead th {\n",
       "        text-align: right;\n",
       "    }\n",
       "</style>\n",
       "<table border=\"1\" class=\"dataframe\">\n",
       "  <thead>\n",
       "    <tr style=\"text-align: right;\">\n",
       "      <th></th>\n",
       "      <th>Total null</th>\n",
       "      <th>%</th>\n",
       "    </tr>\n",
       "  </thead>\n",
       "  <tbody>\n",
       "    <tr>\n",
       "      <th>TIPOBITO</th>\n",
       "      <td>0</td>\n",
       "      <td>0.000000</td>\n",
       "    </tr>\n",
       "    <tr>\n",
       "      <th>CAUSABAS</th>\n",
       "      <td>0</td>\n",
       "      <td>0.000000</td>\n",
       "    </tr>\n",
       "    <tr>\n",
       "      <th>LOCOCOR</th>\n",
       "      <td>0</td>\n",
       "      <td>0.000000</td>\n",
       "    </tr>\n",
       "    <tr>\n",
       "      <th>SEXO</th>\n",
       "      <td>0</td>\n",
       "      <td>0.000000</td>\n",
       "    </tr>\n",
       "    <tr>\n",
       "      <th>CODMUNOCOR</th>\n",
       "      <td>0</td>\n",
       "      <td>0.000000</td>\n",
       "    </tr>\n",
       "    <tr>\n",
       "      <th>DTOBITO</th>\n",
       "      <td>0</td>\n",
       "      <td>0.000000</td>\n",
       "    </tr>\n",
       "    <tr>\n",
       "      <th>IDADE</th>\n",
       "      <td>17718</td>\n",
       "      <td>1.717286</td>\n",
       "    </tr>\n",
       "    <tr>\n",
       "      <th>DTNASC</th>\n",
       "      <td>19701</td>\n",
       "      <td>1.909485</td>\n",
       "    </tr>\n",
       "    <tr>\n",
       "      <th>LINHAA</th>\n",
       "      <td>32587</td>\n",
       "      <td>3.158439</td>\n",
       "    </tr>\n",
       "    <tr>\n",
       "      <th>RACACOR</th>\n",
       "      <td>38227</td>\n",
       "      <td>3.705086</td>\n",
       "    </tr>\n",
       "    <tr>\n",
       "      <th>ESTCIV</th>\n",
       "      <td>64743</td>\n",
       "      <td>6.275103</td>\n",
       "    </tr>\n",
       "    <tr>\n",
       "      <th>ESC</th>\n",
       "      <td>82627</td>\n",
       "      <td>8.008479</td>\n",
       "    </tr>\n",
       "    <tr>\n",
       "      <th>ESC2010</th>\n",
       "      <td>88057</td>\n",
       "      <td>8.534772</td>\n",
       "    </tr>\n",
       "    <tr>\n",
       "      <th>OCUP</th>\n",
       "      <td>162022</td>\n",
       "      <td>15.703702</td>\n",
       "    </tr>\n",
       "  </tbody>\n",
       "</table>\n",
       "</div>"
      ],
      "text/plain": [
       "            Total null          %\n",
       "TIPOBITO             0   0.000000\n",
       "CAUSABAS             0   0.000000\n",
       "LOCOCOR              0   0.000000\n",
       "SEXO                 0   0.000000\n",
       "CODMUNOCOR           0   0.000000\n",
       "DTOBITO              0   0.000000\n",
       "IDADE            17718   1.717286\n",
       "DTNASC           19701   1.909485\n",
       "LINHAA           32587   3.158439\n",
       "RACACOR          38227   3.705086\n",
       "ESTCIV           64743   6.275103\n",
       "ESC              82627   8.008479\n",
       "ESC2010          88057   8.534772\n",
       "OCUP            162022  15.703702"
      ]
     },
     "execution_count": 16,
     "metadata": {},
     "output_type": "execute_result"
    }
   ],
   "source": [
    "# Verify the df2 na values: \n",
    "count_df_null(df2)"
   ]
  },
  {
   "cell_type": "markdown",
   "id": "fc5a9e2f",
   "metadata": {},
   "source": [
    "* **The observations with contain nan values for this variables above are substituted for \"not_informed\"**"
   ]
  },
  {
   "cell_type": "code",
   "execution_count": 17,
   "id": "4a45c153",
   "metadata": {
    "ExecuteTime": {
     "end_time": "2023-03-22T02:06:36.026890Z",
     "start_time": "2023-03-22T02:06:34.273065Z"
    }
   },
   "outputs": [],
   "source": [
    "# Treatment of nan values: \n",
    "df2.fillna(value='not_informed', inplace=True)"
   ]
  },
  {
   "cell_type": "code",
   "execution_count": 18,
   "id": "9d0abc20",
   "metadata": {
    "ExecuteTime": {
     "end_time": "2023-03-22T02:06:36.053177Z",
     "start_time": "2023-03-22T02:06:36.028337Z"
    },
    "scrolled": false
   },
   "outputs": [
    {
     "data": {
      "text/html": [
       "<div>\n",
       "<style scoped>\n",
       "    .dataframe tbody tr th:only-of-type {\n",
       "        vertical-align: middle;\n",
       "    }\n",
       "\n",
       "    .dataframe tbody tr th {\n",
       "        vertical-align: top;\n",
       "    }\n",
       "\n",
       "    .dataframe thead th {\n",
       "        text-align: right;\n",
       "    }\n",
       "</style>\n",
       "<table border=\"1\" class=\"dataframe\">\n",
       "  <thead>\n",
       "    <tr style=\"text-align: right;\">\n",
       "      <th></th>\n",
       "      <th>TIPOBITO</th>\n",
       "      <th>CAUSABAS</th>\n",
       "      <th>LOCOCOR</th>\n",
       "      <th>SEXO</th>\n",
       "      <th>CODMUNOCOR</th>\n",
       "      <th>DTOBITO</th>\n",
       "      <th>IDADE</th>\n",
       "      <th>DTNASC</th>\n",
       "      <th>LINHAA</th>\n",
       "      <th>RACACOR</th>\n",
       "      <th>ESTCIV</th>\n",
       "      <th>ESC</th>\n",
       "      <th>ESC2010</th>\n",
       "      <th>OCUP</th>\n",
       "    </tr>\n",
       "  </thead>\n",
       "  <tbody>\n",
       "    <tr>\n",
       "      <th>0</th>\n",
       "      <td>Not_Fetal</td>\n",
       "      <td>C229</td>\n",
       "      <td>3</td>\n",
       "      <td>1</td>\n",
       "      <td>352050</td>\n",
       "      <td>14012022</td>\n",
       "      <td>479.0</td>\n",
       "      <td>22051942.0</td>\n",
       "      <td>*J180</td>\n",
       "      <td>1.0</td>\n",
       "      <td>not_informed</td>\n",
       "      <td>9.0</td>\n",
       "      <td>9.0</td>\n",
       "      <td>999993.0</td>\n",
       "    </tr>\n",
       "    <tr>\n",
       "      <th>1</th>\n",
       "      <td>Not_Fetal</td>\n",
       "      <td>Y299</td>\n",
       "      <td>1</td>\n",
       "      <td>1</td>\n",
       "      <td>355620</td>\n",
       "      <td>15012022</td>\n",
       "      <td>420.0</td>\n",
       "      <td>17042001.0</td>\n",
       "      <td>*S069</td>\n",
       "      <td>1.0</td>\n",
       "      <td>1.0</td>\n",
       "      <td>9.0</td>\n",
       "      <td>9.0</td>\n",
       "      <td>not_informed</td>\n",
       "    </tr>\n",
       "    <tr>\n",
       "      <th>2</th>\n",
       "      <td>Not_Fetal</td>\n",
       "      <td>B342</td>\n",
       "      <td>1</td>\n",
       "      <td>1</td>\n",
       "      <td>350950</td>\n",
       "      <td>19012022</td>\n",
       "      <td>491.0</td>\n",
       "      <td>24061930.0</td>\n",
       "      <td>*J960</td>\n",
       "      <td>1.0</td>\n",
       "      <td>2.0</td>\n",
       "      <td>3.0</td>\n",
       "      <td>1.0</td>\n",
       "      <td>999993.0</td>\n",
       "    </tr>\n",
       "  </tbody>\n",
       "</table>\n",
       "</div>"
      ],
      "text/plain": [
       "    TIPOBITO CAUSABAS  LOCOCOR  SEXO  CODMUNOCOR   DTOBITO  IDADE      DTNASC  \\\n",
       "0  Not_Fetal     C229        3     1      352050  14012022  479.0  22051942.0   \n",
       "1  Not_Fetal     Y299        1     1      355620  15012022  420.0  17042001.0   \n",
       "2  Not_Fetal     B342        1     1      350950  19012022  491.0  24061930.0   \n",
       "\n",
       "  LINHAA RACACOR        ESTCIV  ESC ESC2010          OCUP  \n",
       "0  *J180     1.0  not_informed  9.0     9.0      999993.0  \n",
       "1  *S069     1.0           1.0  9.0     9.0  not_informed  \n",
       "2  *J960     1.0           2.0  3.0     1.0      999993.0  "
      ]
     },
     "execution_count": 18,
     "metadata": {},
     "output_type": "execute_result"
    }
   ],
   "source": [
    "df2.head(3)"
   ]
  },
  {
   "cell_type": "markdown",
   "id": "be0c8b3b",
   "metadata": {},
   "source": [
    "\n",
    "**Summary transformation about Variables:** \n",
    "\n",
    "    - *SEXO: {0:\"ignored\", 1:\"masculine\", 2:\"feminine\"} \n",
    "    - *LOCOCOR: Place of occurrence of death; We need to change the class number to word for help the future representations. {1:\"hospital\", 2:\"others hospitals\", 3:\"health\", 4:\"public highway\", 5:\"others\", 6:\"indian village\", 9:\"ignored\"};\n",
    "    \n",
    "    - DTOBITO: Death date ( dd mm aaaa) - Need to change this col for a type datetime;\n",
    "    \n",
    "    - *IDADE: 1ºX-2ºXX - for the 1ºX={1:minute; 2:hour; 3:month; 4:year; 5:secular}\n",
    "                                2ºXX={unit of measurement respective the 1ºX};\n",
    "    \n",
    "    - DTNASC: Born date (dd mm aaaa) - Need to change to a type datetime;\n",
    "    \n",
    "    - *RACACOR: ethnic identity - {1: white, 2: black, 3:yellow, 4:Brown, 5:Indigenous}\n",
    "    * Observation: It is important to note that these terms are not widely accepted in English, as they are often considered to be reductive and potentially offensive. Instead of using these terms, it is more appropriate to use terms that accurately and respectfully describe a person's racial or ethnic identity. For example, \"White\" can be described as \"Caucasian\" or \"European American\", \"Black\" can be described as \"African American\", \"Yellow\" is not a commonly used term, \"Brown\" can be described as \"Latino\" or \"Hispanic\", and \"Indigenous\" can be described as \"Native American\" or \"Aboriginal\".\n",
    "    \n",
    "     - *ESTCIV: Marital status of the deceased as reported by relatives. {1:Single; 2:Married; 3:Widowed; 4:separated/divorced; 5:Common-law marriage; 9:Unknown)\n",
    "    \n",
    "    - *ESC: Years of schooling. {1:\"None\", 2:\"1 to 3 years\", 3:\"4 to 7 years\", 4:\"8 to 11 years\", 5:\"12 or more years\", 9:\"Unknown\"};\n",
    "    \n",
    "    - *ESC2010: Level of the last grade completed by the deceased. {0:\"No education\", 1:\"Primary education (1st to 4th grade)\", 2:\"Secondary education (5th to 8th grade)\", 3:\"High school (former 2nd degree)\", 4:\"Incomplete higher education\"; 5:\"Completed higher education\", 9:\"Unknown\"};\n",
    "    \n",
    "    \n",
    "   "
   ]
  },
  {
   "cell_type": "code",
   "execution_count": 19,
   "id": "c5bf1570",
   "metadata": {
    "ExecuteTime": {
     "end_time": "2023-03-22T02:06:36.161472Z",
     "start_time": "2023-03-22T02:06:36.054363Z"
    }
   },
   "outputs": [],
   "source": [
    "# Create a relation variable for the LOCOCOR, IDADE, RACACOR, ESTCIV, ESC, ESC2010 and SEXO\n",
    "dic_LOCOCOR = {1:\"hospital\", 2:\"others hospitals\", 3:\"health\", 4:\"public highway\", \n",
    "               5:\"others\", 6:\"indian village\", 9:\"ignored\"}\n",
    "dic_SEXO = {0:\"ignored\", 1:\"masculine\", 2:\"feminine\"}\n",
    "dic_IDADE = {1:\"minute\", 2:\"hour\", 3:\"month\", 4:\"year\", 5:\"secular\"}\n",
    "dic_RACACOR = {1: \"white\", 2:\"black\", 3:\"yellow\", 4:\"Brown\", 5:\"Indigenous\"}\n",
    "dic_ESTCIV = {1:\"Single\", 2:\"Married\", 3:\"Widowed\", 4:\"separated/divorced\", 5:\"Common-law marriage\", 9:\"Unknown\"}\n",
    "dic_ESC = {1:\"None\", 2:\"1 to 3 years\", 3:\"4 to 7 years\", 4:\"8 to 11 years\", 5:\"12 or more years\", 9:\"Unknown\"}\n",
    "dic_ESC2010 = {0:\"No education\", 1:\"Primary education (1st to 4th grade)\", 2:\"Secondary education (5th to 8th grade)\",\n",
    "               3:\"High school (former 2nd degree)\", 4:\"Incomplete higher education\", 5:\"Completed higher education\", 9:\"Unknown\"}\n",
    "columns_to_update = {'LOCOCOR': dic_LOCOCOR,\n",
    "                     'RACACOR': dic_RACACOR,\n",
    "                     'ESTCIV': dic_ESTCIV,\n",
    "                     'ESC': dic_ESC,\n",
    "                     'ESC2010': dic_ESC2010,\n",
    "                     'SEXO': dic_SEXO}"
   ]
  },
  {
   "cell_type": "code",
   "execution_count": 20,
   "id": "63b10dec",
   "metadata": {
    "ExecuteTime": {
     "end_time": "2023-03-22T02:06:37.963380Z",
     "start_time": "2023-03-22T02:06:36.163399Z"
    }
   },
   "outputs": [],
   "source": [
    "# Update the columns_to_update\n",
    "def update_column_values(df, column, dic_name):\n",
    "    df[column] = df[column].apply(lambda x: x if x == 'not_informed' else dic_name[x])\n",
    "\n",
    "for column, dic_name in columns_to_update.items():\n",
    "    update_column_values(df2, column, dic_name)"
   ]
  },
  {
   "cell_type": "code",
   "execution_count": 21,
   "id": "ccfe34f5",
   "metadata": {
    "ExecuteTime": {
     "end_time": "2023-03-22T02:06:37.988857Z",
     "start_time": "2023-03-22T02:06:37.974347Z"
    },
    "scrolled": true
   },
   "outputs": [
    {
     "data": {
      "text/html": [
       "<div>\n",
       "<style scoped>\n",
       "    .dataframe tbody tr th:only-of-type {\n",
       "        vertical-align: middle;\n",
       "    }\n",
       "\n",
       "    .dataframe tbody tr th {\n",
       "        vertical-align: top;\n",
       "    }\n",
       "\n",
       "    .dataframe thead th {\n",
       "        text-align: right;\n",
       "    }\n",
       "</style>\n",
       "<table border=\"1\" class=\"dataframe\">\n",
       "  <thead>\n",
       "    <tr style=\"text-align: right;\">\n",
       "      <th></th>\n",
       "      <th>TIPOBITO</th>\n",
       "      <th>CAUSABAS</th>\n",
       "      <th>LOCOCOR</th>\n",
       "      <th>SEXO</th>\n",
       "      <th>CODMUNOCOR</th>\n",
       "      <th>DTOBITO</th>\n",
       "      <th>IDADE</th>\n",
       "      <th>DTNASC</th>\n",
       "      <th>LINHAA</th>\n",
       "      <th>RACACOR</th>\n",
       "      <th>ESTCIV</th>\n",
       "      <th>ESC</th>\n",
       "      <th>ESC2010</th>\n",
       "      <th>OCUP</th>\n",
       "    </tr>\n",
       "  </thead>\n",
       "  <tbody>\n",
       "    <tr>\n",
       "      <th>0</th>\n",
       "      <td>Not_Fetal</td>\n",
       "      <td>C229</td>\n",
       "      <td>health</td>\n",
       "      <td>masculine</td>\n",
       "      <td>352050</td>\n",
       "      <td>14012022</td>\n",
       "      <td>479.0</td>\n",
       "      <td>22051942.0</td>\n",
       "      <td>*J180</td>\n",
       "      <td>white</td>\n",
       "      <td>not_informed</td>\n",
       "      <td>Unknown</td>\n",
       "      <td>Unknown</td>\n",
       "      <td>999993.0</td>\n",
       "    </tr>\n",
       "    <tr>\n",
       "      <th>1</th>\n",
       "      <td>Not_Fetal</td>\n",
       "      <td>Y299</td>\n",
       "      <td>hospital</td>\n",
       "      <td>masculine</td>\n",
       "      <td>355620</td>\n",
       "      <td>15012022</td>\n",
       "      <td>420.0</td>\n",
       "      <td>17042001.0</td>\n",
       "      <td>*S069</td>\n",
       "      <td>white</td>\n",
       "      <td>Single</td>\n",
       "      <td>Unknown</td>\n",
       "      <td>Unknown</td>\n",
       "      <td>not_informed</td>\n",
       "    </tr>\n",
       "    <tr>\n",
       "      <th>2</th>\n",
       "      <td>Not_Fetal</td>\n",
       "      <td>B342</td>\n",
       "      <td>hospital</td>\n",
       "      <td>masculine</td>\n",
       "      <td>350950</td>\n",
       "      <td>19012022</td>\n",
       "      <td>491.0</td>\n",
       "      <td>24061930.0</td>\n",
       "      <td>*J960</td>\n",
       "      <td>white</td>\n",
       "      <td>Married</td>\n",
       "      <td>4 to 7 years</td>\n",
       "      <td>Primary education (1st to 4th grade)</td>\n",
       "      <td>999993.0</td>\n",
       "    </tr>\n",
       "  </tbody>\n",
       "</table>\n",
       "</div>"
      ],
      "text/plain": [
       "    TIPOBITO CAUSABAS   LOCOCOR       SEXO  CODMUNOCOR   DTOBITO  IDADE  \\\n",
       "0  Not_Fetal     C229    health  masculine      352050  14012022  479.0   \n",
       "1  Not_Fetal     Y299  hospital  masculine      355620  15012022  420.0   \n",
       "2  Not_Fetal     B342  hospital  masculine      350950  19012022  491.0   \n",
       "\n",
       "       DTNASC LINHAA RACACOR        ESTCIV           ESC  \\\n",
       "0  22051942.0  *J180   white  not_informed       Unknown   \n",
       "1  17042001.0  *S069   white        Single       Unknown   \n",
       "2  24061930.0  *J960   white       Married  4 to 7 years   \n",
       "\n",
       "                                ESC2010          OCUP  \n",
       "0                               Unknown      999993.0  \n",
       "1                               Unknown  not_informed  \n",
       "2  Primary education (1st to 4th grade)      999993.0  "
      ]
     },
     "execution_count": 21,
     "metadata": {},
     "output_type": "execute_result"
    }
   ],
   "source": [
    "df2.head(3)"
   ]
  },
  {
   "cell_type": "markdown",
   "id": "fc026d25",
   "metadata": {},
   "source": [
    "* Obs: The most values unique demonstrate with have some patterns with just two digits, like example \"50\" or \"16\", and this don't represent the valid number for IDADE based on the subtitle of dictionary on document.\n",
    "\n",
    "* For this analisys we assume just the frequency time about completed years, for values with represent less than year we assum new value like \"less_year\". And the values with contain two digits is represent by \"not_inform\". "
   ]
  },
  {
   "cell_type": "code",
   "execution_count": 24,
   "id": "67bfe98f",
   "metadata": {
    "ExecuteTime": {
     "end_time": "2023-03-22T02:06:38.387676Z",
     "start_time": "2023-03-22T02:06:38.272011Z"
    }
   },
   "outputs": [],
   "source": [
    "#Function for select the 2 digits of variable IDADE and change for \"not_inform\"\n",
    "def select_digits(digit):\n",
    "    digit_str = str(int(digit))\n",
    "    if len(digit_str) < 3:\n",
    "        return 0\n",
    "    if digit_str[0] in '123':\n",
    "        return 9\n",
    "    return int(digit)"
   ]
  },
  {
   "cell_type": "code",
   "execution_count": 25,
   "id": "38292301",
   "metadata": {
    "ExecuteTime": {
     "end_time": "2023-03-22T02:06:41.681681Z",
     "start_time": "2023-03-22T02:06:38.390076Z"
    },
    "scrolled": false
   },
   "outputs": [],
   "source": [
    "# Apply the select_digits:\n",
    "df2.IDADE = df2.IDADE.apply(lambda x: select_digits(x) if x != 'not_informed' else 0)\n",
    "\n",
    "# Create a new column by represent the frequency time: \n",
    "dic_IDADE.update({0:'not_informed', 9:'less_year'})\n",
    "df2.insert(7, column='Freq_time', value=df2.IDADE.apply(lambda x: dic_IDADE[int(list(str(x))[0])]))\n",
    "\n",
    "# Modify the var IDADE, exclude the first digit when is 4 and change for 1 when is 5: \n",
    "def modify_age(cod):\n",
    "    condition = (str(cod).startswith('5') and len(str(cod)) == 3) or (str(cod).startswith('4') and len(str(cod)) == 3)\n",
    "    if condition:\n",
    "        return int(str(cod)[1:])\n",
    "    else:\n",
    "        return cod\n",
    "    \n",
    "    \n",
    "df2.IDADE = df2.IDADE.apply(lambda x: modify_age(x))"
   ]
  },
  {
   "cell_type": "code",
   "execution_count": 36,
   "id": "497114dd",
   "metadata": {
    "ExecuteTime": {
     "end_time": "2023-03-22T02:15:09.457631Z",
     "start_time": "2023-03-22T02:15:09.443334Z"
    },
    "scrolled": false
   },
   "outputs": [
    {
     "data": {
      "text/html": [
       "<div>\n",
       "<style scoped>\n",
       "    .dataframe tbody tr th:only-of-type {\n",
       "        vertical-align: middle;\n",
       "    }\n",
       "\n",
       "    .dataframe tbody tr th {\n",
       "        vertical-align: top;\n",
       "    }\n",
       "\n",
       "    .dataframe thead th {\n",
       "        text-align: right;\n",
       "    }\n",
       "</style>\n",
       "<table border=\"1\" class=\"dataframe\">\n",
       "  <thead>\n",
       "    <tr style=\"text-align: right;\">\n",
       "      <th></th>\n",
       "      <th>TIPOBITO</th>\n",
       "      <th>CAUSABAS</th>\n",
       "      <th>LOCOCOR</th>\n",
       "      <th>SEXO</th>\n",
       "      <th>CODMUNOCOR</th>\n",
       "      <th>DTOBITO</th>\n",
       "      <th>IDADE</th>\n",
       "      <th>Freq_time</th>\n",
       "      <th>DTNASC</th>\n",
       "      <th>LINHAA</th>\n",
       "      <th>RACACOR</th>\n",
       "      <th>ESTCIV</th>\n",
       "      <th>ESC</th>\n",
       "      <th>ESC2010</th>\n",
       "      <th>OCUP</th>\n",
       "    </tr>\n",
       "  </thead>\n",
       "  <tbody>\n",
       "    <tr>\n",
       "      <th>0</th>\n",
       "      <td>Not_Fetal</td>\n",
       "      <td>C229</td>\n",
       "      <td>health</td>\n",
       "      <td>masculine</td>\n",
       "      <td>352050</td>\n",
       "      <td>14012022</td>\n",
       "      <td>79</td>\n",
       "      <td>year</td>\n",
       "      <td>22051942.0</td>\n",
       "      <td>*J180</td>\n",
       "      <td>white</td>\n",
       "      <td>not_informed</td>\n",
       "      <td>Unknown</td>\n",
       "      <td>Unknown</td>\n",
       "      <td>999993.0</td>\n",
       "    </tr>\n",
       "    <tr>\n",
       "      <th>1</th>\n",
       "      <td>Not_Fetal</td>\n",
       "      <td>Y299</td>\n",
       "      <td>hospital</td>\n",
       "      <td>masculine</td>\n",
       "      <td>355620</td>\n",
       "      <td>15012022</td>\n",
       "      <td>20</td>\n",
       "      <td>year</td>\n",
       "      <td>17042001.0</td>\n",
       "      <td>*S069</td>\n",
       "      <td>white</td>\n",
       "      <td>Single</td>\n",
       "      <td>Unknown</td>\n",
       "      <td>Unknown</td>\n",
       "      <td>not_informed</td>\n",
       "    </tr>\n",
       "    <tr>\n",
       "      <th>2</th>\n",
       "      <td>Not_Fetal</td>\n",
       "      <td>B342</td>\n",
       "      <td>hospital</td>\n",
       "      <td>masculine</td>\n",
       "      <td>350950</td>\n",
       "      <td>19012022</td>\n",
       "      <td>91</td>\n",
       "      <td>year</td>\n",
       "      <td>24061930.0</td>\n",
       "      <td>*J960</td>\n",
       "      <td>white</td>\n",
       "      <td>Married</td>\n",
       "      <td>4 to 7 years</td>\n",
       "      <td>Primary education (1st to 4th grade)</td>\n",
       "      <td>999993.0</td>\n",
       "    </tr>\n",
       "  </tbody>\n",
       "</table>\n",
       "</div>"
      ],
      "text/plain": [
       "    TIPOBITO CAUSABAS   LOCOCOR       SEXO  CODMUNOCOR   DTOBITO  IDADE  \\\n",
       "0  Not_Fetal     C229    health  masculine      352050  14012022     79   \n",
       "1  Not_Fetal     Y299  hospital  masculine      355620  15012022     20   \n",
       "2  Not_Fetal     B342  hospital  masculine      350950  19012022     91   \n",
       "\n",
       "  Freq_time      DTNASC LINHAA RACACOR        ESTCIV           ESC  \\\n",
       "0      year  22051942.0  *J180   white  not_informed       Unknown   \n",
       "1      year  17042001.0  *S069   white        Single       Unknown   \n",
       "2      year  24061930.0  *J960   white       Married  4 to 7 years   \n",
       "\n",
       "                                ESC2010          OCUP  \n",
       "0                               Unknown      999993.0  \n",
       "1                               Unknown  not_informed  \n",
       "2  Primary education (1st to 4th grade)      999993.0  "
      ]
     },
     "execution_count": 36,
     "metadata": {},
     "output_type": "execute_result"
    }
   ],
   "source": [
    "df2.head(3)"
   ]
  },
  {
   "cell_type": "code",
   "execution_count": 39,
   "id": "14a44e32",
   "metadata": {
    "ExecuteTime": {
     "end_time": "2023-03-22T02:22:53.886030Z",
     "start_time": "2023-03-22T02:22:53.827223Z"
    }
   },
   "outputs": [
    {
     "data": {
      "text/plain": [
       "array(['*J180', '*S069', '*J960', ..., '*X930*T794', '*I509*R578',\n",
       "       '*A418*J22X'], dtype=object)"
      ]
     },
     "execution_count": 39,
     "metadata": {},
     "output_type": "execute_result"
    }
   ],
   "source": [
    "df2.LINHAA.unique()"
   ]
  },
  {
   "cell_type": "markdown",
   "id": "f08c6059",
   "metadata": {},
   "source": [
    "More Summary Variable Transformations: \n",
    "\n",
    "- LINHAA: Cod CD10 of the terminal cause of Death); (Org this)\n",
    "- CAUSABAS: Cod CID10 ( Basic cause of DO) (Org this);\n",
    "- CODMUNOCOR : Cod. City Brazil ( Org this);\n",
    "- OCUP: Cod. of type work Brazil CBO(Classificação Brasileira de Ocupação) (Org this);"
   ]
  },
  {
   "cell_type": "code",
   "execution_count": null,
   "id": "7ed6af62",
   "metadata": {},
   "outputs": [],
   "source": []
  },
  {
   "cell_type": "code",
   "execution_count": null,
   "id": "93f9c6b3",
   "metadata": {},
   "outputs": [],
   "source": []
  },
  {
   "cell_type": "code",
   "execution_count": null,
   "id": "70c61621",
   "metadata": {},
   "outputs": [],
   "source": []
  },
  {
   "cell_type": "code",
   "execution_count": null,
   "id": "102c185e",
   "metadata": {},
   "outputs": [],
   "source": []
  },
  {
   "cell_type": "code",
   "execution_count": null,
   "id": "29764d41",
   "metadata": {},
   "outputs": [],
   "source": []
  },
  {
   "cell_type": "code",
   "execution_count": null,
   "id": "8de74c91",
   "metadata": {},
   "outputs": [],
   "source": []
  }
 ],
 "metadata": {
  "kernelspec": {
   "display_name": "Python 3 (ipykernel)",
   "language": "python",
   "name": "python3"
  },
  "language_info": {
   "codemirror_mode": {
    "name": "ipython",
    "version": 3
   },
   "file_extension": ".py",
   "mimetype": "text/x-python",
   "name": "python",
   "nbconvert_exporter": "python",
   "pygments_lexer": "ipython3",
   "version": "3.9.7"
  }
 },
 "nbformat": 4,
 "nbformat_minor": 5
}
