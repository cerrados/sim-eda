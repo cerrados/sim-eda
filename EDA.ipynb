{
 "cells": [
  {
   "cell_type": "markdown",
   "id": "04b826fd",
   "metadata": {},
   "source": [
    "# Dataset: Opensus -> System Information Mortality - Brazil. \n",
    "\n",
    "Ref: https://opendatasus.saude.gov.br/dataset/sim-2020-2021\n",
    "\n",
    "\"The Mortality Information System (SIM), developed by the Ministry of Health in 1975, is the product of the unification of more than forty Death Certificate models used over the years to collect data on mortality in the country. With its long series time, the SIM is a national heritage, since it has fundamental information so that we can know the aspects related to mortality in Brazil and the causes of illness that led to death. It is also one of the main instruments to support the elaboration of public policies more effective health and social security systems aimed at prevention, promotion and health care.\"\n",
    "https://svs.aids.gov.br/daent/cgiae/sim/apresentacao/"
   ]
  },
  {
   "cell_type": "markdown",
   "id": "dce8d127",
   "metadata": {},
   "source": [
    "## Import Packages"
   ]
  },
  {
   "cell_type": "code",
   "execution_count": 1,
   "id": "04e8e3f7",
   "metadata": {
    "ExecuteTime": {
     "end_time": "2023-03-24T10:58:34.028514Z",
     "start_time": "2023-03-24T10:58:26.541567Z"
    }
   },
   "outputs": [],
   "source": [
    "import numpy as np\n",
    "import pandas as pd\n",
    "import matplotlib.pyplot as plt\n",
    "import matplotlib.style as style\n",
    "import seaborn as sns\n",
    "import missingno as msno\n",
    "import warnings\n",
    "\n",
    "from datetime import datetime\n",
    "from dateutil.parser import parse\n",
    "\n",
    "warnings.filterwarnings(\"ignore\")"
   ]
  },
  {
   "cell_type": "code",
   "execution_count": 2,
   "id": "3af29737",
   "metadata": {
    "ExecuteTime": {
     "end_time": "2023-03-24T10:58:34.033604Z",
     "start_time": "2023-03-24T10:58:34.030520Z"
    }
   },
   "outputs": [],
   "source": [
    "# Global Configurations\n",
    "style.use('seaborn-v0_8-whitegrid')"
   ]
  },
  {
   "cell_type": "markdown",
   "id": "d8a1954f",
   "metadata": {
    "heading_collapsed": true
   },
   "source": [
    "## Load the data"
   ]
  },
  {
   "cell_type": "code",
   "execution_count": 3,
   "id": "538bbb53",
   "metadata": {
    "ExecuteTime": {
     "end_time": "2023-03-24T10:58:34.221661Z",
     "start_time": "2023-03-24T10:58:34.035125Z"
    },
    "hidden": true
   },
   "outputs": [
    {
     "name": "stdout",
     "output_type": "stream",
     "text": [
      "Author: Rodrigo S. Pereira\n",
      "\n",
      "pandas    : 1.4.1\n",
      "numpy     : 1.24.2\n",
      "missingno : 0.4.2\n",
      "matplotlib: 3.6.0\n",
      "seaborn   : 0.11.2\n",
      "\n"
     ]
    }
   ],
   "source": [
    "%reload_ext watermark\n",
    "%watermark -a \"Rodrigo S. Pereira\" --iversions"
   ]
  },
  {
   "cell_type": "code",
   "execution_count": 4,
   "id": "7e305913",
   "metadata": {
    "ExecuteTime": {
     "end_time": "2023-03-24T10:58:45.953121Z",
     "start_time": "2023-03-24T10:58:34.224686Z"
    },
    "hidden": true,
    "scrolled": false
   },
   "outputs": [],
   "source": [
    "# Load the dataset\n",
    "data = pd.read_csv('data/DO22OPEN.csv',sep=';', dtype={\"DTOBITO\":\"object\", \"DTNASC\": \"object\"})"
   ]
  },
  {
   "cell_type": "code",
   "execution_count": 5,
   "id": "9073e2c6",
   "metadata": {
    "ExecuteTime": {
     "end_time": "2023-03-24T10:58:46.077109Z",
     "start_time": "2023-03-24T10:58:45.955113Z"
    },
    "hidden": true,
    "scrolled": true
   },
   "outputs": [
    {
     "data": {
      "text/html": [
       "<div>\n",
       "<style scoped>\n",
       "    .dataframe tbody tr th:only-of-type {\n",
       "        vertical-align: middle;\n",
       "    }\n",
       "\n",
       "    .dataframe tbody tr th {\n",
       "        vertical-align: top;\n",
       "    }\n",
       "\n",
       "    .dataframe thead th {\n",
       "        text-align: right;\n",
       "    }\n",
       "</style>\n",
       "<table border=\"1\" class=\"dataframe\">\n",
       "  <thead>\n",
       "    <tr style=\"text-align: right;\">\n",
       "      <th></th>\n",
       "      <th>contador</th>\n",
       "      <th>contador.1</th>\n",
       "      <th>ORIGEM</th>\n",
       "      <th>TIPOBITO</th>\n",
       "      <th>DTOBITO</th>\n",
       "      <th>HORAOBITO</th>\n",
       "      <th>NATURAL</th>\n",
       "      <th>CODMUNNATU</th>\n",
       "      <th>DTNASC</th>\n",
       "      <th>IDADE</th>\n",
       "      <th>...</th>\n",
       "      <th>TPRESGINFO</th>\n",
       "      <th>TPNIVELINV</th>\n",
       "      <th>DTCADINF</th>\n",
       "      <th>MORTEPARTO</th>\n",
       "      <th>DTCONCASO</th>\n",
       "      <th>ALTCAUSA</th>\n",
       "      <th>CAUSABAS_O</th>\n",
       "      <th>TPPOS</th>\n",
       "      <th>TP_ALTERA</th>\n",
       "      <th>CB_ALT</th>\n",
       "    </tr>\n",
       "  </thead>\n",
       "  <tbody>\n",
       "    <tr>\n",
       "      <th>0</th>\n",
       "      <td>1</td>\n",
       "      <td>1</td>\n",
       "      <td>1</td>\n",
       "      <td>2</td>\n",
       "      <td>13012022</td>\n",
       "      <td>1330.0</td>\n",
       "      <td>841.0</td>\n",
       "      <td>411370.0</td>\n",
       "      <td>02111950</td>\n",
       "      <td>471.0</td>\n",
       "      <td>...</td>\n",
       "      <td>NaN</td>\n",
       "      <td>NaN</td>\n",
       "      <td>NaN</td>\n",
       "      <td>NaN</td>\n",
       "      <td>NaN</td>\n",
       "      <td>NaN</td>\n",
       "      <td>E140</td>\n",
       "      <td>N</td>\n",
       "      <td>NaN</td>\n",
       "      <td>NaN</td>\n",
       "    </tr>\n",
       "    <tr>\n",
       "      <th>1</th>\n",
       "      <td>2</td>\n",
       "      <td>2</td>\n",
       "      <td>1</td>\n",
       "      <td>2</td>\n",
       "      <td>15012022</td>\n",
       "      <td>1258.0</td>\n",
       "      <td>829.0</td>\n",
       "      <td>293280.0</td>\n",
       "      <td>08011961</td>\n",
       "      <td>461.0</td>\n",
       "      <td>...</td>\n",
       "      <td>NaN</td>\n",
       "      <td>NaN</td>\n",
       "      <td>NaN</td>\n",
       "      <td>NaN</td>\n",
       "      <td>NaN</td>\n",
       "      <td>NaN</td>\n",
       "      <td>K721</td>\n",
       "      <td>N</td>\n",
       "      <td>NaN</td>\n",
       "      <td>NaN</td>\n",
       "    </tr>\n",
       "    <tr>\n",
       "      <th>2</th>\n",
       "      <td>3</td>\n",
       "      <td>3</td>\n",
       "      <td>1</td>\n",
       "      <td>2</td>\n",
       "      <td>15012022</td>\n",
       "      <td>1800.0</td>\n",
       "      <td>829.0</td>\n",
       "      <td>292210.0</td>\n",
       "      <td>22021939</td>\n",
       "      <td>482.0</td>\n",
       "      <td>...</td>\n",
       "      <td>NaN</td>\n",
       "      <td>NaN</td>\n",
       "      <td>NaN</td>\n",
       "      <td>NaN</td>\n",
       "      <td>NaN</td>\n",
       "      <td>NaN</td>\n",
       "      <td>C249</td>\n",
       "      <td>N</td>\n",
       "      <td>NaN</td>\n",
       "      <td>NaN</td>\n",
       "    </tr>\n",
       "    <tr>\n",
       "      <th>3</th>\n",
       "      <td>4</td>\n",
       "      <td>4</td>\n",
       "      <td>1</td>\n",
       "      <td>2</td>\n",
       "      <td>16012022</td>\n",
       "      <td>550.0</td>\n",
       "      <td>825.0</td>\n",
       "      <td>250070.0</td>\n",
       "      <td>15071955</td>\n",
       "      <td>466.0</td>\n",
       "      <td>...</td>\n",
       "      <td>NaN</td>\n",
       "      <td>NaN</td>\n",
       "      <td>NaN</td>\n",
       "      <td>NaN</td>\n",
       "      <td>NaN</td>\n",
       "      <td>NaN</td>\n",
       "      <td>K729</td>\n",
       "      <td>N</td>\n",
       "      <td>NaN</td>\n",
       "      <td>NaN</td>\n",
       "    </tr>\n",
       "    <tr>\n",
       "      <th>4</th>\n",
       "      <td>5</td>\n",
       "      <td>5</td>\n",
       "      <td>1</td>\n",
       "      <td>2</td>\n",
       "      <td>16012022</td>\n",
       "      <td>1440.0</td>\n",
       "      <td>852.0</td>\n",
       "      <td>520870.0</td>\n",
       "      <td>25041955</td>\n",
       "      <td>466.0</td>\n",
       "      <td>...</td>\n",
       "      <td>NaN</td>\n",
       "      <td>NaN</td>\n",
       "      <td>NaN</td>\n",
       "      <td>NaN</td>\n",
       "      <td>NaN</td>\n",
       "      <td>NaN</td>\n",
       "      <td>A46</td>\n",
       "      <td>N</td>\n",
       "      <td>NaN</td>\n",
       "      <td>NaN</td>\n",
       "    </tr>\n",
       "  </tbody>\n",
       "</table>\n",
       "<p>5 rows × 87 columns</p>\n",
       "</div>"
      ],
      "text/plain": [
       "   contador  contador.1  ORIGEM  TIPOBITO   DTOBITO  HORAOBITO  NATURAL  \\\n",
       "0         1           1       1         2  13012022     1330.0    841.0   \n",
       "1         2           2       1         2  15012022     1258.0    829.0   \n",
       "2         3           3       1         2  15012022     1800.0    829.0   \n",
       "3         4           4       1         2  16012022      550.0    825.0   \n",
       "4         5           5       1         2  16012022     1440.0    852.0   \n",
       "\n",
       "   CODMUNNATU    DTNASC  IDADE  ...  TPRESGINFO  TPNIVELINV  DTCADINF  \\\n",
       "0    411370.0  02111950  471.0  ...         NaN         NaN       NaN   \n",
       "1    293280.0  08011961  461.0  ...         NaN         NaN       NaN   \n",
       "2    292210.0  22021939  482.0  ...         NaN         NaN       NaN   \n",
       "3    250070.0  15071955  466.0  ...         NaN         NaN       NaN   \n",
       "4    520870.0  25041955  466.0  ...         NaN         NaN       NaN   \n",
       "\n",
       "   MORTEPARTO  DTCONCASO  ALTCAUSA  CAUSABAS_O  TPPOS  TP_ALTERA  CB_ALT  \n",
       "0         NaN        NaN       NaN        E140      N        NaN     NaN  \n",
       "1         NaN        NaN       NaN        K721      N        NaN     NaN  \n",
       "2         NaN        NaN       NaN        C249      N        NaN     NaN  \n",
       "3         NaN        NaN       NaN        K729      N        NaN     NaN  \n",
       "4         NaN        NaN       NaN         A46      N        NaN     NaN  \n",
       "\n",
       "[5 rows x 87 columns]"
      ]
     },
     "execution_count": 5,
     "metadata": {},
     "output_type": "execute_result"
    }
   ],
   "source": [
    "data.head()"
   ]
  },
  {
   "cell_type": "code",
   "execution_count": 6,
   "id": "43165d5d",
   "metadata": {
    "ExecuteTime": {
     "end_time": "2023-03-24T10:58:46.082649Z",
     "start_time": "2023-03-24T10:58:46.078613Z"
    },
    "hidden": true,
    "scrolled": true
   },
   "outputs": [
    {
     "name": "stdout",
     "output_type": "stream",
     "text": [
      "The data Shape n_rows and n_cols are: (1507102, 87)\n"
     ]
    }
   ],
   "source": [
    "print(f'The data Shape n_rows and n_cols are: {data.shape}')"
   ]
  },
  {
   "cell_type": "markdown",
   "id": "775732c0",
   "metadata": {
    "heading_collapsed": true
   },
   "source": [
    "## Data Preparations"
   ]
  },
  {
   "cell_type": "code",
   "execution_count": 7,
   "id": "92c1e92f",
   "metadata": {
    "ExecuteTime": {
     "end_time": "2023-03-24T10:58:46.215101Z",
     "start_time": "2023-03-24T10:58:46.085080Z"
    },
    "hidden": true
   },
   "outputs": [
    {
     "data": {
      "text/plain": [
       "Index(['contador', 'contador.1', 'ORIGEM', 'TIPOBITO', 'DTOBITO', 'HORAOBITO',\n",
       "       'NATURAL', 'CODMUNNATU', 'DTNASC', 'IDADE', 'SEXO', 'RACACOR', 'ESTCIV',\n",
       "       'ESC', 'ESC2010', 'SERIESCFAL', 'OCUP', 'CODMUNRES', 'LOCOCOR',\n",
       "       'CODESTAB', 'CODMUNOCOR', 'IDADEMAE', 'ESCMAE', 'ESCMAE2010',\n",
       "       'SERIESCMAE', 'OCUPMAE', 'QTDFILVIVO', 'QTDFILMORT', 'GRAVIDEZ',\n",
       "       'SEMAGESTAC', 'GESTACAO', 'PARTO', 'OBITOPARTO', 'PESO', 'TPMORTEOCO',\n",
       "       'OBITOGRAV', 'OBITOPUERP', 'ASSISTMED', 'EXAME', 'CIRURGIA',\n",
       "       'NECROPSIA', 'LINHAA', 'LINHAB', 'LINHAC', 'LINHAD', 'LINHAII',\n",
       "       'CAUSABAS', 'CB_PRE', 'COMUNSVOIM', 'DTATESTADO', 'CIRCOBITO',\n",
       "       'ACIDTRAB', 'FONTE', 'NUMEROLOTE', 'DTINVESTIG', 'DTCADASTRO',\n",
       "       'ATESTANTE', 'STCODIFICA', 'CODIFICADO', 'VERSAOSIST', 'VERSAOSCB',\n",
       "       'FONTEINV', 'DTRECEBIM', 'ATESTADO', 'DTRECORIGA', 'OPOR_DO',\n",
       "       'CAUSAMAT', 'ESCMAEAGR1', 'ESCFALAGR1', 'STDOEPIDEM', 'STDONOVA',\n",
       "       'DIFDATA', 'NUDIASOBCO', 'DTCADINV', 'TPOBITOCOR', 'DTCONINV', 'FONTES',\n",
       "       'TPRESGINFO', 'TPNIVELINV', 'DTCADINF', 'MORTEPARTO', 'DTCONCASO',\n",
       "       'ALTCAUSA', 'CAUSABAS_O', 'TPPOS', 'TP_ALTERA', 'CB_ALT'],\n",
       "      dtype='object')"
      ]
     },
     "execution_count": 7,
     "metadata": {},
     "output_type": "execute_result"
    }
   ],
   "source": [
    "# Verify the columns:\n",
    "data.columns"
   ]
  },
  {
   "cell_type": "markdown",
   "id": "f3b410d3",
   "metadata": {
    "hidden": true
   },
   "source": [
    "Notes: \n",
    "    - The data set has a total of **1031744 records** and **86 variables**; \n",
    "    - From the variables present in the original dataset, we can exclude `contador`, `ORIGEM`;\n",
    "   \n",
    "Select the variable for the fisrt analysis:   \n",
    "    - `TIPOBITO`: Fetal/Nao Fetal;  \n",
    "    - `DTOBITO`: Data do óbito formato ddmmaaa.  \n",
    "    - `DTNASC`: Data do nascimento do falecido, formato ddmmaaaa.   \n",
    "    - `IDADE`: Idade do falecido em minutos, horas, dias, meses ou anos.  \n",
    ".    - `SEXO`:.  \n",
    "    - `RACACOR`: raça e cor.  \n",
    "    - `ESTCIV`: estado civil.  \n",
    "    - `ESC2010`: nível da escolaridade.  \n",
    "    - `ESC`: Escolaridade por tempo.  \n",
    "    - `OCUP`: Tipo de trabalho que o falecido desenvolveu na maior parte de sua vida\n",
    "            produtiva.  \n",
    "    - `LOCOCOR`: Local de ocorrencia do óbito.  \n",
    "    - `CODMUNOCOR`: código do municipio onde ocorreu o óbito.  \n",
    "    - `OBITOGRAV`: Óbito na gravidez.  \n",
    "    - `OBITOPUERP`: Óbito no puerpério.  \n",
    "    - `LINHAA`:.  \n",
    "    - `LINHAB`:.   \n",
    "    - `LINHAC`:.  \n",
    "    - `LINHAD`:.  \n",
    "    - `LINHAII`:.  \n",
    "    - `CAUSABAS`: Causa básica da DO.   \n",
    "    - `CIRCOBITO`: Tipo de morte violenta ou circunstâncias em que se deu a morte não natural.  \n",
    "    - `ACIDTRAB`: Indica se o evento que desencadeou o óbito está relacionado ao processo de\n",
    "                trabalho.  \n",
    "    - `ASSISTMED`: assistencia médica antes da ocorrencia do óbito.  \n",
    "    \n",
    "    "
   ]
  },
  {
   "cell_type": "code",
   "execution_count": 8,
   "id": "6ff0b6b1",
   "metadata": {
    "ExecuteTime": {
     "end_time": "2023-03-24T10:58:46.309540Z",
     "start_time": "2023-03-24T10:58:46.217655Z"
    },
    "hidden": true
   },
   "outputs": [],
   "source": [
    "# Select the variables for this first data exploratory: \n",
    "select_var = ['TIPOBITO', 'DTOBITO', 'DTNASC', 'IDADE', 'SEXO', 'RACACOR', 'ESTCIV','ESC2010',\n",
    "             'ESC', 'OCUP', 'LOCOCOR', 'CODMUNOCOR', 'OBITOGRAV', 'OBITOPUERP', 'LINHAA', 'LINHAB',\n",
    "             'LINHAC', 'LINHAD', 'LINHAII', 'CAUSABAS', 'CIRCOBITO', 'ACIDTRAB', 'ASSISTMED']"
   ]
  },
  {
   "cell_type": "markdown",
   "id": "b7e4962f",
   "metadata": {
    "hidden": true
   },
   "source": [
    "**Put here some explanation, why this select_var set** #########"
   ]
  },
  {
   "cell_type": "code",
   "execution_count": 9,
   "id": "87fc5981",
   "metadata": {
    "ExecuteTime": {
     "end_time": "2023-03-24T10:58:46.539136Z",
     "start_time": "2023-03-24T10:58:46.311606Z"
    },
    "hidden": true
   },
   "outputs": [
    {
     "data": {
      "text/plain": [
       "(1507102, 23)"
      ]
     },
     "execution_count": 9,
     "metadata": {},
     "output_type": "execute_result"
    }
   ],
   "source": [
    "df = data[select_var]\n",
    "df.shape"
   ]
  },
  {
   "cell_type": "markdown",
   "id": "fb565b8c",
   "metadata": {
    "heading_collapsed": true,
    "hidden": true
   },
   "source": [
    "### Missing Values"
   ]
  },
  {
   "cell_type": "code",
   "execution_count": 10,
   "id": "8dcf2c02",
   "metadata": {
    "ExecuteTime": {
     "end_time": "2023-03-24T10:58:46.545979Z",
     "start_time": "2023-03-24T10:58:46.542657Z"
    },
    "hidden": true
   },
   "outputs": [],
   "source": [
    "# Function for count and return new dataframe with the relation about null values\n",
    "def count_df_null(data):\n",
    "    df_l = pd.DataFrame(data.isnull().sum().sort_values(), columns=['Total null'])\n",
    "    df_l['%'] = df_l['Total null']/data.shape[0]*100\n",
    "    return df_l"
   ]
  },
  {
   "cell_type": "code",
   "execution_count": 11,
   "id": "9be18adb",
   "metadata": {
    "ExecuteTime": {
     "end_time": "2023-03-24T10:58:48.161846Z",
     "start_time": "2023-03-24T10:58:46.547411Z"
    },
    "hidden": true
   },
   "outputs": [
    {
     "data": {
      "text/html": [
       "<div>\n",
       "<style scoped>\n",
       "    .dataframe tbody tr th:only-of-type {\n",
       "        vertical-align: middle;\n",
       "    }\n",
       "\n",
       "    .dataframe tbody tr th {\n",
       "        vertical-align: top;\n",
       "    }\n",
       "\n",
       "    .dataframe thead th {\n",
       "        text-align: right;\n",
       "    }\n",
       "</style>\n",
       "<table border=\"1\" class=\"dataframe\">\n",
       "  <thead>\n",
       "    <tr style=\"text-align: right;\">\n",
       "      <th></th>\n",
       "      <th>Total null</th>\n",
       "      <th>%</th>\n",
       "    </tr>\n",
       "  </thead>\n",
       "  <tbody>\n",
       "    <tr>\n",
       "      <th>TIPOBITO</th>\n",
       "      <td>0</td>\n",
       "      <td>0.000000</td>\n",
       "    </tr>\n",
       "    <tr>\n",
       "      <th>CAUSABAS</th>\n",
       "      <td>0</td>\n",
       "      <td>0.000000</td>\n",
       "    </tr>\n",
       "    <tr>\n",
       "      <th>LOCOCOR</th>\n",
       "      <td>0</td>\n",
       "      <td>0.000000</td>\n",
       "    </tr>\n",
       "    <tr>\n",
       "      <th>SEXO</th>\n",
       "      <td>0</td>\n",
       "      <td>0.000000</td>\n",
       "    </tr>\n",
       "    <tr>\n",
       "      <th>CODMUNOCOR</th>\n",
       "      <td>0</td>\n",
       "      <td>0.000000</td>\n",
       "    </tr>\n",
       "    <tr>\n",
       "      <th>DTOBITO</th>\n",
       "      <td>0</td>\n",
       "      <td>0.000000</td>\n",
       "    </tr>\n",
       "    <tr>\n",
       "      <th>IDADE</th>\n",
       "      <td>26419</td>\n",
       "      <td>1.752967</td>\n",
       "    </tr>\n",
       "    <tr>\n",
       "      <th>DTNASC</th>\n",
       "      <td>29400</td>\n",
       "      <td>1.950764</td>\n",
       "    </tr>\n",
       "    <tr>\n",
       "      <th>LINHAA</th>\n",
       "      <td>46972</td>\n",
       "      <td>3.116710</td>\n",
       "    </tr>\n",
       "    <tr>\n",
       "      <th>RACACOR</th>\n",
       "      <td>55292</td>\n",
       "      <td>3.668763</td>\n",
       "    </tr>\n",
       "    <tr>\n",
       "      <th>ESTCIV</th>\n",
       "      <td>94767</td>\n",
       "      <td>6.288028</td>\n",
       "    </tr>\n",
       "    <tr>\n",
       "      <th>ESC</th>\n",
       "      <td>120584</td>\n",
       "      <td>8.001051</td>\n",
       "    </tr>\n",
       "    <tr>\n",
       "      <th>ESC2010</th>\n",
       "      <td>128091</td>\n",
       "      <td>8.499159</td>\n",
       "    </tr>\n",
       "    <tr>\n",
       "      <th>OCUP</th>\n",
       "      <td>235987</td>\n",
       "      <td>15.658330</td>\n",
       "    </tr>\n",
       "    <tr>\n",
       "      <th>LINHAB</th>\n",
       "      <td>382553</td>\n",
       "      <td>25.383352</td>\n",
       "    </tr>\n",
       "    <tr>\n",
       "      <th>ASSISTMED</th>\n",
       "      <td>476872</td>\n",
       "      <td>31.641654</td>\n",
       "    </tr>\n",
       "    <tr>\n",
       "      <th>LINHAC</th>\n",
       "      <td>823626</td>\n",
       "      <td>54.649652</td>\n",
       "    </tr>\n",
       "    <tr>\n",
       "      <th>LINHAII</th>\n",
       "      <td>882542</td>\n",
       "      <td>58.558877</td>\n",
       "    </tr>\n",
       "    <tr>\n",
       "      <th>LINHAD</th>\n",
       "      <td>1221881</td>\n",
       "      <td>81.074871</td>\n",
       "    </tr>\n",
       "    <tr>\n",
       "      <th>CIRCOBITO</th>\n",
       "      <td>1365444</td>\n",
       "      <td>90.600636</td>\n",
       "    </tr>\n",
       "    <tr>\n",
       "      <th>OBITOGRAV</th>\n",
       "      <td>1423289</td>\n",
       "      <td>94.438797</td>\n",
       "    </tr>\n",
       "    <tr>\n",
       "      <th>OBITOPUERP</th>\n",
       "      <td>1423300</td>\n",
       "      <td>94.439527</td>\n",
       "    </tr>\n",
       "    <tr>\n",
       "      <th>ACIDTRAB</th>\n",
       "      <td>1462088</td>\n",
       "      <td>97.013208</td>\n",
       "    </tr>\n",
       "  </tbody>\n",
       "</table>\n",
       "</div>"
      ],
      "text/plain": [
       "            Total null          %\n",
       "TIPOBITO             0   0.000000\n",
       "CAUSABAS             0   0.000000\n",
       "LOCOCOR              0   0.000000\n",
       "SEXO                 0   0.000000\n",
       "CODMUNOCOR           0   0.000000\n",
       "DTOBITO              0   0.000000\n",
       "IDADE            26419   1.752967\n",
       "DTNASC           29400   1.950764\n",
       "LINHAA           46972   3.116710\n",
       "RACACOR          55292   3.668763\n",
       "ESTCIV           94767   6.288028\n",
       "ESC             120584   8.001051\n",
       "ESC2010         128091   8.499159\n",
       "OCUP            235987  15.658330\n",
       "LINHAB          382553  25.383352\n",
       "ASSISTMED       476872  31.641654\n",
       "LINHAC          823626  54.649652\n",
       "LINHAII         882542  58.558877\n",
       "LINHAD         1221881  81.074871\n",
       "CIRCOBITO      1365444  90.600636\n",
       "OBITOGRAV      1423289  94.438797\n",
       "OBITOPUERP     1423300  94.439527\n",
       "ACIDTRAB       1462088  97.013208"
      ]
     },
     "execution_count": 11,
     "metadata": {},
     "output_type": "execute_result"
    }
   ],
   "source": [
    "# Verify the value null in all dataframe and that % of total observations\n",
    "count_df_null(df)"
   ]
  },
  {
   "cell_type": "code",
   "execution_count": 12,
   "id": "0914e84e",
   "metadata": {
    "ExecuteTime": {
     "end_time": "2023-03-24T10:58:50.344638Z",
     "start_time": "2023-03-24T10:58:48.163648Z"
    },
    "hidden": true,
    "scrolled": true
   },
   "outputs": [
    {
     "data": {
      "image/png": "[encoded data removed]",
      "text/plain": [
       "<Figure size 864x288 with 1 Axes>"
      ]
     },
     "metadata": {
      "needs_background": "light"
     },
     "output_type": "display_data"
    }
   ],
   "source": [
    "# Plot summary about missing values: \n",
    "colors = sns.color_palette('husl', len(select_var))\n",
    "fig, ax = plt.subplots(figsize=(12,4))\n",
    "ax = (1 - df.isnull().mean()).plot.bar(color=colors)"
   ]
  },
  {
   "cell_type": "code",
   "execution_count": 13,
   "id": "f8a6c11d",
   "metadata": {
    "ExecuteTime": {
     "end_time": "2023-03-24T10:58:55.243648Z",
     "start_time": "2023-03-24T10:58:50.346385Z"
    },
    "hidden": true
   },
   "outputs": [
    {
     "data": {
      "image/png": "[encoded data removed]",
      "text/plain": [
       "<Figure size 720x432 with 2 Axes>"
      ]
     },
     "metadata": {
      "needs_background": "light"
     },
     "output_type": "display_data"
    }
   ],
   "source": [
    "# Heatmap for correlation between missing values\n",
    "ax = msno.heatmap(df, figsize=(10,6))"
   ]
  },
  {
   "cell_type": "markdown",
   "id": "a46e91a9",
   "metadata": {
    "hidden": true
   },
   "source": [
    "### Data cleaning"
   ]
  },
  {
   "cell_type": "markdown",
   "id": "b618894d",
   "metadata": {
    "hidden": true
   },
   "source": [
    "* We consider trunced variable with no more with 20% of lost data. "
   ]
  },
  {
   "cell_type": "code",
   "execution_count": 14,
   "id": "7d605d36",
   "metadata": {
    "ExecuteTime": {
     "end_time": "2023-03-24T10:58:58.137170Z",
     "start_time": "2023-03-24T10:58:55.246729Z"
    },
    "hidden": true
   },
   "outputs": [
    {
     "data": {
      "text/plain": [
       "array(['TIPOBITO', 'CAUSABAS', 'LOCOCOR', 'SEXO', 'CODMUNOCOR', 'DTOBITO',\n",
       "       'IDADE', 'DTNASC', 'LINHAA', 'RACACOR', 'ESTCIV', 'ESC', 'ESC2010',\n",
       "       'OCUP'], dtype=object)"
      ]
     },
     "execution_count": 14,
     "metadata": {},
     "output_type": "execute_result"
    }
   ],
   "source": [
    "select_var = count_df_null(df)[count_df_null(df)['%'] < 20].index.values\n",
    "select_var"
   ]
  },
  {
   "cell_type": "code",
   "execution_count": 15,
   "id": "da21b134",
   "metadata": {
    "ExecuteTime": {
     "end_time": "2023-03-24T10:58:58.960885Z",
     "start_time": "2023-03-24T10:58:58.140018Z"
    },
    "hidden": true
   },
   "outputs": [
    {
     "name": "stdout",
     "output_type": "stream",
     "text": [
      "<class 'pandas.core.frame.DataFrame'>\n",
      "RangeIndex: 1507102 entries, 0 to 1507101\n",
      "Data columns (total 14 columns):\n",
      " #   Column      Non-Null Count    Dtype  \n",
      "---  ------      --------------    -----  \n",
      " 0   TIPOBITO    1507102 non-null  int64  \n",
      " 1   CAUSABAS    1507102 non-null  object \n",
      " 2   LOCOCOR     1507102 non-null  int64  \n",
      " 3   SEXO        1507102 non-null  int64  \n",
      " 4   CODMUNOCOR  1507102 non-null  int64  \n",
      " 5   DTOBITO     1507102 non-null  object \n",
      " 6   IDADE       1480683 non-null  float64\n",
      " 7   DTNASC      1477702 non-null  object \n",
      " 8   LINHAA      1460130 non-null  object \n",
      " 9   RACACOR     1451810 non-null  float64\n",
      " 10  ESTCIV      1412335 non-null  float64\n",
      " 11  ESC         1386518 non-null  float64\n",
      " 12  ESC2010     1379011 non-null  float64\n",
      " 13  OCUP        1271115 non-null  float64\n",
      "dtypes: float64(6), int64(4), object(4)\n",
      "memory usage: 161.0+ MB\n"
     ]
    }
   ],
   "source": [
    "# Filtering the data by select_var and atribute to new df2: \n",
    "df2 = df[select_var]\n",
    "df2.info()"
   ]
  },
  {
   "cell_type": "markdown",
   "id": "a14410cc",
   "metadata": {
    "hidden": true
   },
   "source": [
    "Select process for the representative variable, now we need to work on the change some data for put in better visualization and a post processing of the exploratory data. \n",
    "\n",
    "Relation of the select variable and how is the process for apply: \n",
    "* `TIPOBITO`: Change the number 1 to fetal and 2 to not fetal."
   ]
  },
  {
   "cell_type": "code",
   "execution_count": 16,
   "id": "b71de0df",
   "metadata": {
    "ExecuteTime": {
     "end_time": "2023-03-24T10:58:59.174723Z",
     "start_time": "2023-03-24T10:58:58.962351Z"
    },
    "hidden": true
   },
   "outputs": [],
   "source": [
    "# Ajustment of var TIPOBITO: \n",
    "df2.TIPOBITO = df2.TIPOBITO.replace(2, 'Not_Fetal')\n",
    "df2.TIPOBITO = df2.TIPOBITO.replace(1, 'Fetal')"
   ]
  },
  {
   "cell_type": "code",
   "execution_count": 17,
   "id": "d2306451",
   "metadata": {
    "ExecuteTime": {
     "end_time": "2023-03-24T10:58:59.179558Z",
     "start_time": "2023-03-24T10:58:59.176400Z"
    },
    "hidden": true,
    "scrolled": true
   },
   "outputs": [
    {
     "name": "stdout",
     "output_type": "stream",
     "text": [
      "The new data df2 Shape n_rows and n_cols are: (1507102, 14)\n"
     ]
    }
   ],
   "source": [
    "df2.shape\n",
    "print(f'The new data df2 Shape n_rows and n_cols are: {df2.shape}')"
   ]
  },
  {
   "cell_type": "code",
   "execution_count": 18,
   "id": "446ff1e6",
   "metadata": {
    "ExecuteTime": {
     "end_time": "2023-03-24T10:58:59.304048Z",
     "start_time": "2023-03-24T10:58:59.180924Z"
    },
    "hidden": true,
    "scrolled": true
   },
   "outputs": [
    {
     "data": {
      "text/html": [
       "<div>\n",
       "<style scoped>\n",
       "    .dataframe tbody tr th:only-of-type {\n",
       "        vertical-align: middle;\n",
       "    }\n",
       "\n",
       "    .dataframe tbody tr th {\n",
       "        vertical-align: top;\n",
       "    }\n",
       "\n",
       "    .dataframe thead th {\n",
       "        text-align: right;\n",
       "    }\n",
       "</style>\n",
       "<table border=\"1\" class=\"dataframe\">\n",
       "  <thead>\n",
       "    <tr style=\"text-align: right;\">\n",
       "      <th></th>\n",
       "      <th>TIPOBITO</th>\n",
       "      <th>CAUSABAS</th>\n",
       "      <th>LOCOCOR</th>\n",
       "      <th>SEXO</th>\n",
       "      <th>CODMUNOCOR</th>\n",
       "      <th>DTOBITO</th>\n",
       "      <th>IDADE</th>\n",
       "      <th>DTNASC</th>\n",
       "      <th>LINHAA</th>\n",
       "      <th>RACACOR</th>\n",
       "      <th>ESTCIV</th>\n",
       "      <th>ESC</th>\n",
       "      <th>ESC2010</th>\n",
       "      <th>OCUP</th>\n",
       "    </tr>\n",
       "  </thead>\n",
       "  <tbody>\n",
       "    <tr>\n",
       "      <th>0</th>\n",
       "      <td>Not_Fetal</td>\n",
       "      <td>E140</td>\n",
       "      <td>1</td>\n",
       "      <td>2</td>\n",
       "      <td>354780</td>\n",
       "      <td>13012022</td>\n",
       "      <td>471.0</td>\n",
       "      <td>02111950</td>\n",
       "      <td>*J180</td>\n",
       "      <td>2.0</td>\n",
       "      <td>3.0</td>\n",
       "      <td>3.0</td>\n",
       "      <td>1.0</td>\n",
       "      <td>999992.0</td>\n",
       "    </tr>\n",
       "    <tr>\n",
       "      <th>1</th>\n",
       "      <td>Not_Fetal</td>\n",
       "      <td>K721</td>\n",
       "      <td>1</td>\n",
       "      <td>1</td>\n",
       "      <td>354780</td>\n",
       "      <td>15012022</td>\n",
       "      <td>461.0</td>\n",
       "      <td>08011961</td>\n",
       "      <td>*A419</td>\n",
       "      <td>4.0</td>\n",
       "      <td>4.0</td>\n",
       "      <td>5.0</td>\n",
       "      <td>5.0</td>\n",
       "      <td>821415.0</td>\n",
       "    </tr>\n",
       "    <tr>\n",
       "      <th>2</th>\n",
       "      <td>Not_Fetal</td>\n",
       "      <td>C249</td>\n",
       "      <td>1</td>\n",
       "      <td>2</td>\n",
       "      <td>354780</td>\n",
       "      <td>15012022</td>\n",
       "      <td>482.0</td>\n",
       "      <td>22021939</td>\n",
       "      <td>*C249</td>\n",
       "      <td>4.0</td>\n",
       "      <td>3.0</td>\n",
       "      <td>3.0</td>\n",
       "      <td>2.0</td>\n",
       "      <td>999992.0</td>\n",
       "    </tr>\n",
       "  </tbody>\n",
       "</table>\n",
       "</div>"
      ],
      "text/plain": [
       "    TIPOBITO CAUSABAS  LOCOCOR  SEXO  CODMUNOCOR   DTOBITO  IDADE    DTNASC  \\\n",
       "0  Not_Fetal     E140        1     2      354780  13012022  471.0  02111950   \n",
       "1  Not_Fetal     K721        1     1      354780  15012022  461.0  08011961   \n",
       "2  Not_Fetal     C249        1     2      354780  15012022  482.0  22021939   \n",
       "\n",
       "  LINHAA  RACACOR  ESTCIV  ESC  ESC2010      OCUP  \n",
       "0  *J180      2.0     3.0  3.0      1.0  999992.0  \n",
       "1  *A419      4.0     4.0  5.0      5.0  821415.0  \n",
       "2  *C249      4.0     3.0  3.0      2.0  999992.0  "
      ]
     },
     "execution_count": 18,
     "metadata": {},
     "output_type": "execute_result"
    }
   ],
   "source": [
    "df2.head(3)"
   ]
  },
  {
   "cell_type": "code",
   "execution_count": 19,
   "id": "9e263f30",
   "metadata": {
    "ExecuteTime": {
     "end_time": "2023-03-24T10:59:00.332847Z",
     "start_time": "2023-03-24T10:58:59.305444Z"
    },
    "hidden": true
   },
   "outputs": [
    {
     "data": {
      "text/html": [
       "<div>\n",
       "<style scoped>\n",
       "    .dataframe tbody tr th:only-of-type {\n",
       "        vertical-align: middle;\n",
       "    }\n",
       "\n",
       "    .dataframe tbody tr th {\n",
       "        vertical-align: top;\n",
       "    }\n",
       "\n",
       "    .dataframe thead th {\n",
       "        text-align: right;\n",
       "    }\n",
       "</style>\n",
       "<table border=\"1\" class=\"dataframe\">\n",
       "  <thead>\n",
       "    <tr style=\"text-align: right;\">\n",
       "      <th></th>\n",
       "      <th>Total null</th>\n",
       "      <th>%</th>\n",
       "    </tr>\n",
       "  </thead>\n",
       "  <tbody>\n",
       "    <tr>\n",
       "      <th>TIPOBITO</th>\n",
       "      <td>0</td>\n",
       "      <td>0.000000</td>\n",
       "    </tr>\n",
       "    <tr>\n",
       "      <th>CAUSABAS</th>\n",
       "      <td>0</td>\n",
       "      <td>0.000000</td>\n",
       "    </tr>\n",
       "    <tr>\n",
       "      <th>LOCOCOR</th>\n",
       "      <td>0</td>\n",
       "      <td>0.000000</td>\n",
       "    </tr>\n",
       "    <tr>\n",
       "      <th>SEXO</th>\n",
       "      <td>0</td>\n",
       "      <td>0.000000</td>\n",
       "    </tr>\n",
       "    <tr>\n",
       "      <th>CODMUNOCOR</th>\n",
       "      <td>0</td>\n",
       "      <td>0.000000</td>\n",
       "    </tr>\n",
       "    <tr>\n",
       "      <th>DTOBITO</th>\n",
       "      <td>0</td>\n",
       "      <td>0.000000</td>\n",
       "    </tr>\n",
       "    <tr>\n",
       "      <th>IDADE</th>\n",
       "      <td>26419</td>\n",
       "      <td>1.752967</td>\n",
       "    </tr>\n",
       "    <tr>\n",
       "      <th>DTNASC</th>\n",
       "      <td>29400</td>\n",
       "      <td>1.950764</td>\n",
       "    </tr>\n",
       "    <tr>\n",
       "      <th>LINHAA</th>\n",
       "      <td>46972</td>\n",
       "      <td>3.116710</td>\n",
       "    </tr>\n",
       "    <tr>\n",
       "      <th>RACACOR</th>\n",
       "      <td>55292</td>\n",
       "      <td>3.668763</td>\n",
       "    </tr>\n",
       "    <tr>\n",
       "      <th>ESTCIV</th>\n",
       "      <td>94767</td>\n",
       "      <td>6.288028</td>\n",
       "    </tr>\n",
       "    <tr>\n",
       "      <th>ESC</th>\n",
       "      <td>120584</td>\n",
       "      <td>8.001051</td>\n",
       "    </tr>\n",
       "    <tr>\n",
       "      <th>ESC2010</th>\n",
       "      <td>128091</td>\n",
       "      <td>8.499159</td>\n",
       "    </tr>\n",
       "    <tr>\n",
       "      <th>OCUP</th>\n",
       "      <td>235987</td>\n",
       "      <td>15.658330</td>\n",
       "    </tr>\n",
       "  </tbody>\n",
       "</table>\n",
       "</div>"
      ],
      "text/plain": [
       "            Total null          %\n",
       "TIPOBITO             0   0.000000\n",
       "CAUSABAS             0   0.000000\n",
       "LOCOCOR              0   0.000000\n",
       "SEXO                 0   0.000000\n",
       "CODMUNOCOR           0   0.000000\n",
       "DTOBITO              0   0.000000\n",
       "IDADE            26419   1.752967\n",
       "DTNASC           29400   1.950764\n",
       "LINHAA           46972   3.116710\n",
       "RACACOR          55292   3.668763\n",
       "ESTCIV           94767   6.288028\n",
       "ESC             120584   8.001051\n",
       "ESC2010         128091   8.499159\n",
       "OCUP            235987  15.658330"
      ]
     },
     "execution_count": 19,
     "metadata": {},
     "output_type": "execute_result"
    }
   ],
   "source": [
    "# Verify the df2 na values: \n",
    "count_df_null(df2)"
   ]
  },
  {
   "cell_type": "markdown",
   "id": "fc5a9e2f",
   "metadata": {
    "hidden": true
   },
   "source": [
    "* **The observations with contain nan values for this variables above are substituted for \"not_informed\"**"
   ]
  },
  {
   "cell_type": "code",
   "execution_count": 20,
   "id": "4a45c153",
   "metadata": {
    "ExecuteTime": {
     "end_time": "2023-03-24T10:59:02.752104Z",
     "start_time": "2023-03-24T10:59:00.334079Z"
    },
    "hidden": true
   },
   "outputs": [],
   "source": [
    "# Treatment of nan values: \n",
    "df2.fillna(value='not_informed', inplace=True)"
   ]
  },
  {
   "cell_type": "code",
   "execution_count": 21,
   "id": "9d0abc20",
   "metadata": {
    "ExecuteTime": {
     "end_time": "2023-03-24T10:59:02.771450Z",
     "start_time": "2023-03-24T10:59:02.754122Z"
    },
    "hidden": true,
    "scrolled": false
   },
   "outputs": [
    {
     "data": {
      "text/html": [
       "<div>\n",
       "<style scoped>\n",
       "    .dataframe tbody tr th:only-of-type {\n",
       "        vertical-align: middle;\n",
       "    }\n",
       "\n",
       "    .dataframe tbody tr th {\n",
       "        vertical-align: top;\n",
       "    }\n",
       "\n",
       "    .dataframe thead th {\n",
       "        text-align: right;\n",
       "    }\n",
       "</style>\n",
       "<table border=\"1\" class=\"dataframe\">\n",
       "  <thead>\n",
       "    <tr style=\"text-align: right;\">\n",
       "      <th></th>\n",
       "      <th>TIPOBITO</th>\n",
       "      <th>CAUSABAS</th>\n",
       "      <th>LOCOCOR</th>\n",
       "      <th>SEXO</th>\n",
       "      <th>CODMUNOCOR</th>\n",
       "      <th>DTOBITO</th>\n",
       "      <th>IDADE</th>\n",
       "      <th>DTNASC</th>\n",
       "      <th>LINHAA</th>\n",
       "      <th>RACACOR</th>\n",
       "      <th>ESTCIV</th>\n",
       "      <th>ESC</th>\n",
       "      <th>ESC2010</th>\n",
       "      <th>OCUP</th>\n",
       "    </tr>\n",
       "  </thead>\n",
       "  <tbody>\n",
       "    <tr>\n",
       "      <th>0</th>\n",
       "      <td>Not_Fetal</td>\n",
       "      <td>E140</td>\n",
       "      <td>1</td>\n",
       "      <td>2</td>\n",
       "      <td>354780</td>\n",
       "      <td>13012022</td>\n",
       "      <td>471.0</td>\n",
       "      <td>02111950</td>\n",
       "      <td>*J180</td>\n",
       "      <td>2.0</td>\n",
       "      <td>3.0</td>\n",
       "      <td>3.0</td>\n",
       "      <td>1.0</td>\n",
       "      <td>999992.0</td>\n",
       "    </tr>\n",
       "    <tr>\n",
       "      <th>1</th>\n",
       "      <td>Not_Fetal</td>\n",
       "      <td>K721</td>\n",
       "      <td>1</td>\n",
       "      <td>1</td>\n",
       "      <td>354780</td>\n",
       "      <td>15012022</td>\n",
       "      <td>461.0</td>\n",
       "      <td>08011961</td>\n",
       "      <td>*A419</td>\n",
       "      <td>4.0</td>\n",
       "      <td>4.0</td>\n",
       "      <td>5.0</td>\n",
       "      <td>5.0</td>\n",
       "      <td>821415.0</td>\n",
       "    </tr>\n",
       "    <tr>\n",
       "      <th>2</th>\n",
       "      <td>Not_Fetal</td>\n",
       "      <td>C249</td>\n",
       "      <td>1</td>\n",
       "      <td>2</td>\n",
       "      <td>354780</td>\n",
       "      <td>15012022</td>\n",
       "      <td>482.0</td>\n",
       "      <td>22021939</td>\n",
       "      <td>*C249</td>\n",
       "      <td>4.0</td>\n",
       "      <td>3.0</td>\n",
       "      <td>3.0</td>\n",
       "      <td>2.0</td>\n",
       "      <td>999992.0</td>\n",
       "    </tr>\n",
       "  </tbody>\n",
       "</table>\n",
       "</div>"
      ],
      "text/plain": [
       "    TIPOBITO CAUSABAS  LOCOCOR  SEXO  CODMUNOCOR   DTOBITO  IDADE    DTNASC  \\\n",
       "0  Not_Fetal     E140        1     2      354780  13012022  471.0  02111950   \n",
       "1  Not_Fetal     K721        1     1      354780  15012022  461.0  08011961   \n",
       "2  Not_Fetal     C249        1     2      354780  15012022  482.0  22021939   \n",
       "\n",
       "  LINHAA RACACOR ESTCIV  ESC ESC2010      OCUP  \n",
       "0  *J180     2.0    3.0  3.0     1.0  999992.0  \n",
       "1  *A419     4.0    4.0  5.0     5.0  821415.0  \n",
       "2  *C249     4.0    3.0  3.0     2.0  999992.0  "
      ]
     },
     "execution_count": 21,
     "metadata": {},
     "output_type": "execute_result"
    }
   ],
   "source": [
    "df2.head(3)"
   ]
  },
  {
   "cell_type": "markdown",
   "id": "be0c8b3b",
   "metadata": {
    "hidden": true
   },
   "source": [
    "\n",
    "**Summary transformation about Variables:** \n",
    "\n",
    "    - SEXO: {0:\"ignored\", 1:\"masculine\", 2:\"feminine\"} \n",
    "    \n",
    "    - LOCOCOR: Place of occurrence of death; We need to change the class number to word for help the future representations. {1:\"hospital\", 2:\"others hospitals\", 3:\"health\", 4:\"public highway\", 5:\"others\", 6:\"indian village\", 9:\"ignored\"};      \n",
    "    \n",
    "    - *IDADE: 1ºX-2ºXX - for the 1ºX={1:minute; 2:hour; 3:month; 4:year; 5:secular}\n",
    "                                2ºXX={unit of measurement respective the 1ºX};      \n",
    "    \n",
    "    - *RACACOR: ethnic identity - {1: white, 2: black, 3:yellow, 4:Brown, 5:Indigenous}\n",
    "    * Observation: It is important to note that these terms are not widely accepted in English, as they are often considered to be reductive and potentially offensive. Instead of using these terms, it is more appropriate to use terms that accurately and respectfully describe a person's racial or ethnic identity. For example, \"White\" can be described as \"Caucasian\" or \"European American\", \"Black\" can be described as \"African American\", \"Yellow\" is not a commonly used term, \"Brown\" can be described as \"Latino\" or \"Hispanic\", and \"Indigenous\" can be described as \"Native American\" or \"Aboriginal\".\n",
    "    \n",
    "     - *ESTCIV: Marital status of the deceased as reported by relatives. {1:Single; 2:Married; 3:Widowed; 4:separated/divorced; 5:Common-law marriage; 9:Unknown)\n",
    "    \n",
    "    - *ESC: Years of schooling. {1:\"None\", 2:\"1 to 3 years\", 3:\"4 to 7 years\", 4:\"8 to 11 years\", 5:\"12 or more years\", 9:\"Unknown\"};\n",
    "    \n",
    "    - *ESC2010: Level of the last grade completed by the deceased. {0:\"No education\", 1:\"Primary education (1st to 4th grade)\", 2:\"Secondary education (5th to 8th grade)\", 3:\"High school (former 2nd degree)\", 4:\"Incomplete higher education\"; 5:\"Completed higher education\", 9:\"Unknown\"};"
   ]
  },
  {
   "cell_type": "code",
   "execution_count": 22,
   "id": "c5bf1570",
   "metadata": {
    "ExecuteTime": {
     "end_time": "2023-03-24T10:59:02.922997Z",
     "start_time": "2023-03-24T10:59:02.773092Z"
    },
    "hidden": true
   },
   "outputs": [],
   "source": [
    "# Create a relation variable for the LOCOCOR, IDADE, RACACOR, ESTCIV, ESC, ESC2010 and SEXO\n",
    "dic_LOCOCOR = {1:\"hospital\", 2:\"others hospitals\", 3:\"health\", 4:\"public highway\", \n",
    "               5:\"others\", 6:\"indian village\", 9:\"ignored\"}\n",
    "dic_SEXO = {0:\"ignored\", 1:\"masculine\", 2:\"feminine\"}\n",
    "dic_IDADE = {1:\"minute\", 2:\"hour\", 3:\"month\", 4:\"year\", 5:\"secular\"}\n",
    "dic_RACACOR = {1: \"white\", 2:\"black\", 3:\"yellow\", 4:\"Brown\", 5:\"Indigenous\"}\n",
    "dic_ESTCIV = {1:\"Single\", 2:\"Married\", 3:\"Widowed\", 4:\"separated/divorced\", 5:\"Common-law marriage\", 9:\"Unknown\"}\n",
    "dic_ESC = {1:\"None\", 2:\"1 to 3 years\", 3:\"4 to 7 years\", 4:\"8 to 11 years\", 5:\"12 or more years\", 9:\"Unknown\"}\n",
    "dic_ESC2010 = {0:\"No education\", 1:\"Primary education (1st to 4th grade)\", 2:\"Secondary education (5th to 8th grade)\",\n",
    "               3:\"High school (former 2nd degree)\", 4:\"Incomplete higher education\", 5:\"Completed higher education\", 9:\"Unknown\"}\n",
    "columns_to_update = {'LOCOCOR': dic_LOCOCOR,\n",
    "                     'RACACOR': dic_RACACOR,\n",
    "                     'ESTCIV': dic_ESTCIV,\n",
    "                     'ESC': dic_ESC,\n",
    "                     'ESC2010': dic_ESC2010,\n",
    "                     'SEXO': dic_SEXO}"
   ]
  },
  {
   "cell_type": "code",
   "execution_count": 23,
   "id": "63b10dec",
   "metadata": {
    "ExecuteTime": {
     "end_time": "2023-03-24T10:59:04.751868Z",
     "start_time": "2023-03-24T10:59:02.924549Z"
    },
    "hidden": true
   },
   "outputs": [],
   "source": [
    "# Update the columns_to_update\n",
    "def update_column_values(df, column, dic_name):\n",
    "    df[column] = df[column].apply(lambda x: x if x == 'not_informed' else dic_name[x])\n",
    "\n",
    "for column, dic_name in columns_to_update.items():\n",
    "    update_column_values(df2, column, dic_name)"
   ]
  },
  {
   "cell_type": "code",
   "execution_count": 24,
   "id": "ccfe34f5",
   "metadata": {
    "ExecuteTime": {
     "end_time": "2023-03-24T10:59:04.767144Z",
     "start_time": "2023-03-24T10:59:04.753366Z"
    },
    "hidden": true,
    "scrolled": true
   },
   "outputs": [
    {
     "data": {
      "text/html": [
       "<div>\n",
       "<style scoped>\n",
       "    .dataframe tbody tr th:only-of-type {\n",
       "        vertical-align: middle;\n",
       "    }\n",
       "\n",
       "    .dataframe tbody tr th {\n",
       "        vertical-align: top;\n",
       "    }\n",
       "\n",
       "    .dataframe thead th {\n",
       "        text-align: right;\n",
       "    }\n",
       "</style>\n",
       "<table border=\"1\" class=\"dataframe\">\n",
       "  <thead>\n",
       "    <tr style=\"text-align: right;\">\n",
       "      <th></th>\n",
       "      <th>TIPOBITO</th>\n",
       "      <th>CAUSABAS</th>\n",
       "      <th>LOCOCOR</th>\n",
       "      <th>SEXO</th>\n",
       "      <th>CODMUNOCOR</th>\n",
       "      <th>DTOBITO</th>\n",
       "      <th>IDADE</th>\n",
       "      <th>DTNASC</th>\n",
       "      <th>LINHAA</th>\n",
       "      <th>RACACOR</th>\n",
       "      <th>ESTCIV</th>\n",
       "      <th>ESC</th>\n",
       "      <th>ESC2010</th>\n",
       "      <th>OCUP</th>\n",
       "    </tr>\n",
       "  </thead>\n",
       "  <tbody>\n",
       "    <tr>\n",
       "      <th>0</th>\n",
       "      <td>Not_Fetal</td>\n",
       "      <td>E140</td>\n",
       "      <td>hospital</td>\n",
       "      <td>feminine</td>\n",
       "      <td>354780</td>\n",
       "      <td>13012022</td>\n",
       "      <td>471.0</td>\n",
       "      <td>02111950</td>\n",
       "      <td>*J180</td>\n",
       "      <td>black</td>\n",
       "      <td>Widowed</td>\n",
       "      <td>4 to 7 years</td>\n",
       "      <td>Primary education (1st to 4th grade)</td>\n",
       "      <td>999992.0</td>\n",
       "    </tr>\n",
       "    <tr>\n",
       "      <th>1</th>\n",
       "      <td>Not_Fetal</td>\n",
       "      <td>K721</td>\n",
       "      <td>hospital</td>\n",
       "      <td>masculine</td>\n",
       "      <td>354780</td>\n",
       "      <td>15012022</td>\n",
       "      <td>461.0</td>\n",
       "      <td>08011961</td>\n",
       "      <td>*A419</td>\n",
       "      <td>Brown</td>\n",
       "      <td>separated/divorced</td>\n",
       "      <td>12 or more years</td>\n",
       "      <td>Completed higher education</td>\n",
       "      <td>821415.0</td>\n",
       "    </tr>\n",
       "    <tr>\n",
       "      <th>2</th>\n",
       "      <td>Not_Fetal</td>\n",
       "      <td>C249</td>\n",
       "      <td>hospital</td>\n",
       "      <td>feminine</td>\n",
       "      <td>354780</td>\n",
       "      <td>15012022</td>\n",
       "      <td>482.0</td>\n",
       "      <td>22021939</td>\n",
       "      <td>*C249</td>\n",
       "      <td>Brown</td>\n",
       "      <td>Widowed</td>\n",
       "      <td>4 to 7 years</td>\n",
       "      <td>Secondary education (5th to 8th grade)</td>\n",
       "      <td>999992.0</td>\n",
       "    </tr>\n",
       "  </tbody>\n",
       "</table>\n",
       "</div>"
      ],
      "text/plain": [
       "    TIPOBITO CAUSABAS   LOCOCOR       SEXO  CODMUNOCOR   DTOBITO  IDADE  \\\n",
       "0  Not_Fetal     E140  hospital   feminine      354780  13012022  471.0   \n",
       "1  Not_Fetal     K721  hospital  masculine      354780  15012022  461.0   \n",
       "2  Not_Fetal     C249  hospital   feminine      354780  15012022  482.0   \n",
       "\n",
       "     DTNASC LINHAA RACACOR              ESTCIV               ESC  \\\n",
       "0  02111950  *J180   black             Widowed      4 to 7 years   \n",
       "1  08011961  *A419   Brown  separated/divorced  12 or more years   \n",
       "2  22021939  *C249   Brown             Widowed      4 to 7 years   \n",
       "\n",
       "                                  ESC2010      OCUP  \n",
       "0    Primary education (1st to 4th grade)  999992.0  \n",
       "1              Completed higher education  821415.0  \n",
       "2  Secondary education (5th to 8th grade)  999992.0  "
      ]
     },
     "execution_count": 24,
     "metadata": {},
     "output_type": "execute_result"
    }
   ],
   "source": [
    "df2.head(3)"
   ]
  },
  {
   "cell_type": "markdown",
   "id": "fc026d25",
   "metadata": {
    "hidden": true
   },
   "source": [
    "* Obs: The most values unique demonstrate with have some patterns with just two digits, like example \"50\" or \"16\", and this don't represent the valid number for IDADE based on the subtitle of dictionary on document.\n",
    "\n",
    "* For this analisys we assume just the frequency time about completed years, for values with represent less than year we assum new value like \"less_year\". And the values with contain two digits is represent by \"not_inform\". "
   ]
  },
  {
   "cell_type": "code",
   "execution_count": 25,
   "id": "67bfe98f",
   "metadata": {
    "ExecuteTime": {
     "end_time": "2023-03-24T10:59:04.872197Z",
     "start_time": "2023-03-24T10:59:04.768679Z"
    },
    "hidden": true
   },
   "outputs": [],
   "source": [
    "#Function for select the 2 digits of variable IDADE and change for \"not_inform\"\n",
    "def select_digits(digit):\n",
    "    digit_str = str(int(digit))\n",
    "    if len(digit_str) < 3:\n",
    "        return 0\n",
    "    if digit_str[0] in '123':\n",
    "        return 9\n",
    "    return int(digit)"
   ]
  },
  {
   "cell_type": "code",
   "execution_count": 26,
   "id": "38292301",
   "metadata": {
    "ExecuteTime": {
     "end_time": "2023-03-24T10:59:09.212751Z",
     "start_time": "2023-03-24T10:59:04.874177Z"
    },
    "hidden": true,
    "scrolled": false
   },
   "outputs": [],
   "source": [
    "# Apply the select_digits:\n",
    "df2.IDADE = df2.IDADE.apply(lambda x: select_digits(x) if x != 'not_informed' else 0)\n",
    "\n",
    "# Create a new column by represent the frequency time: \n",
    "dic_IDADE.update({0:'not_informed', 9:'less_year'})\n",
    "df2.insert(7, column='Freq_time', value=df2.IDADE.apply(lambda x: dic_IDADE[int(list(str(x))[0])]))\n",
    "\n",
    "# Modify the var IDADE, exclude the first digit when is 4 and change for 1 when is 5: \n",
    "def modify_age(cod):\n",
    "    condition = (str(cod).startswith('5') and len(str(cod)) == 3) or (str(cod).startswith('4') and len(str(cod)) == 3)\n",
    "    if condition:\n",
    "        return int(str(cod)[1:])\n",
    "    else:\n",
    "        return cod\n",
    "    \n",
    "    \n",
    "df2.IDADE = df2.IDADE.apply(lambda x: modify_age(x))"
   ]
  },
  {
   "cell_type": "code",
   "execution_count": 27,
   "id": "497114dd",
   "metadata": {
    "ExecuteTime": {
     "end_time": "2023-03-24T10:59:09.231147Z",
     "start_time": "2023-03-24T10:59:09.214650Z"
    },
    "hidden": true,
    "scrolled": false
   },
   "outputs": [
    {
     "data": {
      "text/html": [
       "<div>\n",
       "<style scoped>\n",
       "    .dataframe tbody tr th:only-of-type {\n",
       "        vertical-align: middle;\n",
       "    }\n",
       "\n",
       "    .dataframe tbody tr th {\n",
       "        vertical-align: top;\n",
       "    }\n",
       "\n",
       "    .dataframe thead th {\n",
       "        text-align: right;\n",
       "    }\n",
       "</style>\n",
       "<table border=\"1\" class=\"dataframe\">\n",
       "  <thead>\n",
       "    <tr style=\"text-align: right;\">\n",
       "      <th></th>\n",
       "      <th>TIPOBITO</th>\n",
       "      <th>CAUSABAS</th>\n",
       "      <th>LOCOCOR</th>\n",
       "      <th>SEXO</th>\n",
       "      <th>CODMUNOCOR</th>\n",
       "      <th>DTOBITO</th>\n",
       "      <th>IDADE</th>\n",
       "      <th>Freq_time</th>\n",
       "      <th>DTNASC</th>\n",
       "      <th>LINHAA</th>\n",
       "      <th>RACACOR</th>\n",
       "      <th>ESTCIV</th>\n",
       "      <th>ESC</th>\n",
       "      <th>ESC2010</th>\n",
       "      <th>OCUP</th>\n",
       "    </tr>\n",
       "  </thead>\n",
       "  <tbody>\n",
       "    <tr>\n",
       "      <th>0</th>\n",
       "      <td>Not_Fetal</td>\n",
       "      <td>E140</td>\n",
       "      <td>hospital</td>\n",
       "      <td>feminine</td>\n",
       "      <td>354780</td>\n",
       "      <td>13012022</td>\n",
       "      <td>71</td>\n",
       "      <td>year</td>\n",
       "      <td>02111950</td>\n",
       "      <td>*J180</td>\n",
       "      <td>black</td>\n",
       "      <td>Widowed</td>\n",
       "      <td>4 to 7 years</td>\n",
       "      <td>Primary education (1st to 4th grade)</td>\n",
       "      <td>999992.0</td>\n",
       "    </tr>\n",
       "    <tr>\n",
       "      <th>1</th>\n",
       "      <td>Not_Fetal</td>\n",
       "      <td>K721</td>\n",
       "      <td>hospital</td>\n",
       "      <td>masculine</td>\n",
       "      <td>354780</td>\n",
       "      <td>15012022</td>\n",
       "      <td>61</td>\n",
       "      <td>year</td>\n",
       "      <td>08011961</td>\n",
       "      <td>*A419</td>\n",
       "      <td>Brown</td>\n",
       "      <td>separated/divorced</td>\n",
       "      <td>12 or more years</td>\n",
       "      <td>Completed higher education</td>\n",
       "      <td>821415.0</td>\n",
       "    </tr>\n",
       "    <tr>\n",
       "      <th>2</th>\n",
       "      <td>Not_Fetal</td>\n",
       "      <td>C249</td>\n",
       "      <td>hospital</td>\n",
       "      <td>feminine</td>\n",
       "      <td>354780</td>\n",
       "      <td>15012022</td>\n",
       "      <td>82</td>\n",
       "      <td>year</td>\n",
       "      <td>22021939</td>\n",
       "      <td>*C249</td>\n",
       "      <td>Brown</td>\n",
       "      <td>Widowed</td>\n",
       "      <td>4 to 7 years</td>\n",
       "      <td>Secondary education (5th to 8th grade)</td>\n",
       "      <td>999992.0</td>\n",
       "    </tr>\n",
       "    <tr>\n",
       "      <th>3</th>\n",
       "      <td>Not_Fetal</td>\n",
       "      <td>K729</td>\n",
       "      <td>hospital</td>\n",
       "      <td>feminine</td>\n",
       "      <td>354780</td>\n",
       "      <td>16012022</td>\n",
       "      <td>66</td>\n",
       "      <td>year</td>\n",
       "      <td>15071955</td>\n",
       "      <td>*K729</td>\n",
       "      <td>white</td>\n",
       "      <td>Married</td>\n",
       "      <td>4 to 7 years</td>\n",
       "      <td>Secondary education (5th to 8th grade)</td>\n",
       "      <td>999992.0</td>\n",
       "    </tr>\n",
       "    <tr>\n",
       "      <th>4</th>\n",
       "      <td>Not_Fetal</td>\n",
       "      <td>A46</td>\n",
       "      <td>hospital</td>\n",
       "      <td>feminine</td>\n",
       "      <td>354780</td>\n",
       "      <td>16012022</td>\n",
       "      <td>66</td>\n",
       "      <td>year</td>\n",
       "      <td>25041955</td>\n",
       "      <td>*A419</td>\n",
       "      <td>Brown</td>\n",
       "      <td>Single</td>\n",
       "      <td>8 to 11 years</td>\n",
       "      <td>High school (former 2nd degree)</td>\n",
       "      <td>999992.0</td>\n",
       "    </tr>\n",
       "    <tr>\n",
       "      <th>5</th>\n",
       "      <td>Fetal</td>\n",
       "      <td>P95</td>\n",
       "      <td>hospital</td>\n",
       "      <td>masculine</td>\n",
       "      <td>420430</td>\n",
       "      <td>12012022</td>\n",
       "      <td>0</td>\n",
       "      <td>not_informed</td>\n",
       "      <td>not_informed</td>\n",
       "      <td>*P95X</td>\n",
       "      <td>not_informed</td>\n",
       "      <td>not_informed</td>\n",
       "      <td>not_informed</td>\n",
       "      <td>not_informed</td>\n",
       "      <td>not_informed</td>\n",
       "    </tr>\n",
       "    <tr>\n",
       "      <th>6</th>\n",
       "      <td>Fetal</td>\n",
       "      <td>P011</td>\n",
       "      <td>hospital</td>\n",
       "      <td>feminine</td>\n",
       "      <td>420430</td>\n",
       "      <td>02012022</td>\n",
       "      <td>0</td>\n",
       "      <td>not_informed</td>\n",
       "      <td>not_informed</td>\n",
       "      <td>*P011</td>\n",
       "      <td>not_informed</td>\n",
       "      <td>not_informed</td>\n",
       "      <td>not_informed</td>\n",
       "      <td>not_informed</td>\n",
       "      <td>not_informed</td>\n",
       "    </tr>\n",
       "    <tr>\n",
       "      <th>7</th>\n",
       "      <td>Not_Fetal</td>\n",
       "      <td>Y099</td>\n",
       "      <td>hospital</td>\n",
       "      <td>masculine</td>\n",
       "      <td>420430</td>\n",
       "      <td>04012022</td>\n",
       "      <td>21</td>\n",
       "      <td>year</td>\n",
       "      <td>22082000</td>\n",
       "      <td>*S069</td>\n",
       "      <td>white</td>\n",
       "      <td>Single</td>\n",
       "      <td>8 to 11 years</td>\n",
       "      <td>High school (former 2nd degree)</td>\n",
       "      <td>513405.0</td>\n",
       "    </tr>\n",
       "    <tr>\n",
       "      <th>8</th>\n",
       "      <td>Not_Fetal</td>\n",
       "      <td>R99</td>\n",
       "      <td>health</td>\n",
       "      <td>masculine</td>\n",
       "      <td>420430</td>\n",
       "      <td>17012022</td>\n",
       "      <td>76</td>\n",
       "      <td>year</td>\n",
       "      <td>27101945</td>\n",
       "      <td>*R99X</td>\n",
       "      <td>white</td>\n",
       "      <td>Widowed</td>\n",
       "      <td>None</td>\n",
       "      <td>No education</td>\n",
       "      <td>621005.0</td>\n",
       "    </tr>\n",
       "    <tr>\n",
       "      <th>9</th>\n",
       "      <td>Not_Fetal</td>\n",
       "      <td>I639</td>\n",
       "      <td>hospital</td>\n",
       "      <td>feminine</td>\n",
       "      <td>420430</td>\n",
       "      <td>17012022</td>\n",
       "      <td>94</td>\n",
       "      <td>year</td>\n",
       "      <td>18071927</td>\n",
       "      <td>*J189</td>\n",
       "      <td>white</td>\n",
       "      <td>Widowed</td>\n",
       "      <td>1 to 3 years</td>\n",
       "      <td>Primary education (1st to 4th grade)</td>\n",
       "      <td>621005.0</td>\n",
       "    </tr>\n",
       "  </tbody>\n",
       "</table>\n",
       "</div>"
      ],
      "text/plain": [
       "    TIPOBITO CAUSABAS   LOCOCOR       SEXO  CODMUNOCOR   DTOBITO  IDADE  \\\n",
       "0  Not_Fetal     E140  hospital   feminine      354780  13012022     71   \n",
       "1  Not_Fetal     K721  hospital  masculine      354780  15012022     61   \n",
       "2  Not_Fetal     C249  hospital   feminine      354780  15012022     82   \n",
       "3  Not_Fetal     K729  hospital   feminine      354780  16012022     66   \n",
       "4  Not_Fetal      A46  hospital   feminine      354780  16012022     66   \n",
       "5      Fetal      P95  hospital  masculine      420430  12012022      0   \n",
       "6      Fetal     P011  hospital   feminine      420430  02012022      0   \n",
       "7  Not_Fetal     Y099  hospital  masculine      420430  04012022     21   \n",
       "8  Not_Fetal      R99    health  masculine      420430  17012022     76   \n",
       "9  Not_Fetal     I639  hospital   feminine      420430  17012022     94   \n",
       "\n",
       "      Freq_time        DTNASC LINHAA       RACACOR              ESTCIV  \\\n",
       "0          year      02111950  *J180         black             Widowed   \n",
       "1          year      08011961  *A419         Brown  separated/divorced   \n",
       "2          year      22021939  *C249         Brown             Widowed   \n",
       "3          year      15071955  *K729         white             Married   \n",
       "4          year      25041955  *A419         Brown              Single   \n",
       "5  not_informed  not_informed  *P95X  not_informed        not_informed   \n",
       "6  not_informed  not_informed  *P011  not_informed        not_informed   \n",
       "7          year      22082000  *S069         white              Single   \n",
       "8          year      27101945  *R99X         white             Widowed   \n",
       "9          year      18071927  *J189         white             Widowed   \n",
       "\n",
       "                ESC                                 ESC2010          OCUP  \n",
       "0      4 to 7 years    Primary education (1st to 4th grade)      999992.0  \n",
       "1  12 or more years              Completed higher education      821415.0  \n",
       "2      4 to 7 years  Secondary education (5th to 8th grade)      999992.0  \n",
       "3      4 to 7 years  Secondary education (5th to 8th grade)      999992.0  \n",
       "4     8 to 11 years         High school (former 2nd degree)      999992.0  \n",
       "5      not_informed                            not_informed  not_informed  \n",
       "6      not_informed                            not_informed  not_informed  \n",
       "7     8 to 11 years         High school (former 2nd degree)      513405.0  \n",
       "8              None                            No education      621005.0  \n",
       "9      1 to 3 years    Primary education (1st to 4th grade)      621005.0  "
      ]
     },
     "execution_count": 27,
     "metadata": {},
     "output_type": "execute_result"
    }
   ],
   "source": [
    "df2.head(10)"
   ]
  },
  {
   "cell_type": "markdown",
   "id": "805df19d",
   "metadata": {
    "hidden": true
   },
   "source": [
    "Aqui vamos tomar uma decisão: Realizar as trasnformações de cada variável categórica para seus respectivos significados é uma tarefa redundante. A análise exploratória pode partir dessa premissa inicial, e após os resultados realizarmos as devidas transformaçẽos de registros para ajustar uma melhor compreensão no ambiente de visualização dos dados."
   ]
  },
  {
   "cell_type": "markdown",
   "id": "02e4b311",
   "metadata": {
    "hidden": true
   },
   "source": [
    "Estaremos interessados somente nas mortes de origem Não Fetal. Portanto iremos atribuir uma cópia do df2 para um novo dataset onde será suprimido a coluna `TIPOBITO`"
   ]
  },
  {
   "cell_type": "code",
   "execution_count": 28,
   "id": "3c83c354",
   "metadata": {
    "ExecuteTime": {
     "end_time": "2023-03-24T10:59:10.094634Z",
     "start_time": "2023-03-24T10:59:09.234674Z"
    },
    "hidden": true
   },
   "outputs": [],
   "source": [
    "# Create a new dataframe with contain just `TIPOBITO` == \"Not_Fetal\"\n",
    "df3 = df2.query('TIPOBITO == \"Not_Fetal\"').drop('TIPOBITO', axis=1)"
   ]
  },
  {
   "cell_type": "code",
   "execution_count": 29,
   "id": "df9a03e5",
   "metadata": {
    "ExecuteTime": {
     "end_time": "2023-03-24T10:59:10.103301Z",
     "start_time": "2023-03-24T10:59:10.096958Z"
    },
    "hidden": true
   },
   "outputs": [
    {
     "data": {
      "text/plain": [
       "(1480683, 14)"
      ]
     },
     "execution_count": 29,
     "metadata": {},
     "output_type": "execute_result"
    }
   ],
   "source": [
    "df3.shape"
   ]
  },
  {
   "cell_type": "markdown",
   "id": "bc7fd89e",
   "metadata": {
    "heading_collapsed": true,
    "hidden": true
   },
   "source": [
    "### Checkpoint A\n",
    "Checkpoint:  Salvar as alterações realizadas no dataset original para posteriores consultas. "
   ]
  },
  {
   "cell_type": "code",
   "execution_count": 30,
   "id": "72d76669",
   "metadata": {
    "ExecuteTime": {
     "end_time": "2023-03-24T10:59:19.027616Z",
     "start_time": "2023-03-24T10:59:10.104773Z"
    },
    "hidden": true
   },
   "outputs": [],
   "source": [
    "df3.to_csv('data/data_checkpointA.csv', index=False)"
   ]
  },
  {
   "cell_type": "markdown",
   "id": "59213d2c",
   "metadata": {},
   "source": [
    "## Exploratory Data Analysis"
   ]
  },
  {
   "cell_type": "code",
   "execution_count": 31,
   "id": "8ed74984",
   "metadata": {
    "ExecuteTime": {
     "end_time": "2023-03-24T10:59:21.397065Z",
     "start_time": "2023-03-24T10:59:19.030295Z"
    }
   },
   "outputs": [
    {
     "name": "stdout",
     "output_type": "stream",
     "text": [
      "The shape of data:(1480683, 14)\n"
     ]
    }
   ],
   "source": [
    "# Load the dataframe by checkpoint A: \n",
    "data = pd.read_csv('data/data_checkpointA.csv')\n",
    "print(f'The shape of data:{data.shape}')"
   ]
  },
  {
   "cell_type": "code",
   "execution_count": 32,
   "id": "c7e79fe3",
   "metadata": {
    "ExecuteTime": {
     "end_time": "2023-03-24T10:59:21.415416Z",
     "start_time": "2023-03-24T10:59:21.398735Z"
    }
   },
   "outputs": [
    {
     "data": {
      "text/html": [
       "<div>\n",
       "<style scoped>\n",
       "    .dataframe tbody tr th:only-of-type {\n",
       "        vertical-align: middle;\n",
       "    }\n",
       "\n",
       "    .dataframe tbody tr th {\n",
       "        vertical-align: top;\n",
       "    }\n",
       "\n",
       "    .dataframe thead th {\n",
       "        text-align: right;\n",
       "    }\n",
       "</style>\n",
       "<table border=\"1\" class=\"dataframe\">\n",
       "  <thead>\n",
       "    <tr style=\"text-align: right;\">\n",
       "      <th></th>\n",
       "      <th>CAUSABAS</th>\n",
       "      <th>LOCOCOR</th>\n",
       "      <th>SEXO</th>\n",
       "      <th>CODMUNOCOR</th>\n",
       "      <th>DTOBITO</th>\n",
       "      <th>IDADE</th>\n",
       "      <th>Freq_time</th>\n",
       "      <th>DTNASC</th>\n",
       "      <th>LINHAA</th>\n",
       "      <th>RACACOR</th>\n",
       "      <th>ESTCIV</th>\n",
       "      <th>ESC</th>\n",
       "      <th>ESC2010</th>\n",
       "      <th>OCUP</th>\n",
       "    </tr>\n",
       "  </thead>\n",
       "  <tbody>\n",
       "    <tr>\n",
       "      <th>0</th>\n",
       "      <td>E140</td>\n",
       "      <td>hospital</td>\n",
       "      <td>feminine</td>\n",
       "      <td>354780</td>\n",
       "      <td>13012022</td>\n",
       "      <td>71</td>\n",
       "      <td>year</td>\n",
       "      <td>02111950</td>\n",
       "      <td>*J180</td>\n",
       "      <td>black</td>\n",
       "      <td>Widowed</td>\n",
       "      <td>4 to 7 years</td>\n",
       "      <td>Primary education (1st to 4th grade)</td>\n",
       "      <td>999992.0</td>\n",
       "    </tr>\n",
       "    <tr>\n",
       "      <th>1</th>\n",
       "      <td>K721</td>\n",
       "      <td>hospital</td>\n",
       "      <td>masculine</td>\n",
       "      <td>354780</td>\n",
       "      <td>15012022</td>\n",
       "      <td>61</td>\n",
       "      <td>year</td>\n",
       "      <td>08011961</td>\n",
       "      <td>*A419</td>\n",
       "      <td>Brown</td>\n",
       "      <td>separated/divorced</td>\n",
       "      <td>12 or more years</td>\n",
       "      <td>Completed higher education</td>\n",
       "      <td>821415.0</td>\n",
       "    </tr>\n",
       "    <tr>\n",
       "      <th>2</th>\n",
       "      <td>C249</td>\n",
       "      <td>hospital</td>\n",
       "      <td>feminine</td>\n",
       "      <td>354780</td>\n",
       "      <td>15012022</td>\n",
       "      <td>82</td>\n",
       "      <td>year</td>\n",
       "      <td>22021939</td>\n",
       "      <td>*C249</td>\n",
       "      <td>Brown</td>\n",
       "      <td>Widowed</td>\n",
       "      <td>4 to 7 years</td>\n",
       "      <td>Secondary education (5th to 8th grade)</td>\n",
       "      <td>999992.0</td>\n",
       "    </tr>\n",
       "    <tr>\n",
       "      <th>3</th>\n",
       "      <td>K729</td>\n",
       "      <td>hospital</td>\n",
       "      <td>feminine</td>\n",
       "      <td>354780</td>\n",
       "      <td>16012022</td>\n",
       "      <td>66</td>\n",
       "      <td>year</td>\n",
       "      <td>15071955</td>\n",
       "      <td>*K729</td>\n",
       "      <td>white</td>\n",
       "      <td>Married</td>\n",
       "      <td>4 to 7 years</td>\n",
       "      <td>Secondary education (5th to 8th grade)</td>\n",
       "      <td>999992.0</td>\n",
       "    </tr>\n",
       "    <tr>\n",
       "      <th>4</th>\n",
       "      <td>A46</td>\n",
       "      <td>hospital</td>\n",
       "      <td>feminine</td>\n",
       "      <td>354780</td>\n",
       "      <td>16012022</td>\n",
       "      <td>66</td>\n",
       "      <td>year</td>\n",
       "      <td>25041955</td>\n",
       "      <td>*A419</td>\n",
       "      <td>Brown</td>\n",
       "      <td>Single</td>\n",
       "      <td>8 to 11 years</td>\n",
       "      <td>High school (former 2nd degree)</td>\n",
       "      <td>999992.0</td>\n",
       "    </tr>\n",
       "  </tbody>\n",
       "</table>\n",
       "</div>"
      ],
      "text/plain": [
       "  CAUSABAS   LOCOCOR       SEXO  CODMUNOCOR   DTOBITO  IDADE Freq_time  \\\n",
       "0     E140  hospital   feminine      354780  13012022     71      year   \n",
       "1     K721  hospital  masculine      354780  15012022     61      year   \n",
       "2     C249  hospital   feminine      354780  15012022     82      year   \n",
       "3     K729  hospital   feminine      354780  16012022     66      year   \n",
       "4      A46  hospital   feminine      354780  16012022     66      year   \n",
       "\n",
       "     DTNASC LINHAA RACACOR              ESTCIV               ESC  \\\n",
       "0  02111950  *J180   black             Widowed      4 to 7 years   \n",
       "1  08011961  *A419   Brown  separated/divorced  12 or more years   \n",
       "2  22021939  *C249   Brown             Widowed      4 to 7 years   \n",
       "3  15071955  *K729   white             Married      4 to 7 years   \n",
       "4  25041955  *A419   Brown              Single     8 to 11 years   \n",
       "\n",
       "                                  ESC2010      OCUP  \n",
       "0    Primary education (1st to 4th grade)  999992.0  \n",
       "1              Completed higher education  821415.0  \n",
       "2  Secondary education (5th to 8th grade)  999992.0  \n",
       "3  Secondary education (5th to 8th grade)  999992.0  \n",
       "4         High school (former 2nd degree)  999992.0  "
      ]
     },
     "execution_count": 32,
     "metadata": {},
     "output_type": "execute_result"
    }
   ],
   "source": [
    "data.head()"
   ]
  },
  {
   "cell_type": "code",
   "execution_count": 33,
   "id": "f207b924",
   "metadata": {
    "ExecuteTime": {
     "end_time": "2023-03-24T10:59:21.585164Z",
     "start_time": "2023-03-24T10:59:21.417567Z"
    },
    "scrolled": false
   },
   "outputs": [
    {
     "data": {
      "text/plain": [
       "array(['year', 'less_year', 'secular', 'not_informed'], dtype=object)"
      ]
     },
     "execution_count": 33,
     "metadata": {},
     "output_type": "execute_result"
    }
   ],
   "source": [
    "# Verificando se há \"not_informed\" na coluna Freq_time\n",
    "data.Freq_time.unique()"
   ]
  },
  {
   "cell_type": "code",
   "execution_count": 34,
   "id": "8ac0b81f",
   "metadata": {
    "ExecuteTime": {
     "end_time": "2023-03-24T10:59:21.686406Z",
     "start_time": "2023-03-24T10:59:21.587013Z"
    }
   },
   "outputs": [
    {
     "data": {
      "text/plain": [
       "(2464, 14)"
      ]
     },
     "execution_count": 34,
     "metadata": {},
     "output_type": "execute_result"
    }
   ],
   "source": [
    "data.query('Freq_time == \"not_informed\"').shape"
   ]
  },
  {
   "cell_type": "code",
   "execution_count": null,
   "id": "d7cc8634",
   "metadata": {},
   "outputs": [],
   "source": []
  }
 ],
 "metadata": {
  "kernelspec": {
   "display_name": "Python 3 (ipykernel)",
   "language": "python",
   "name": "python3"
  },
  "language_info": {
   "codemirror_mode": {
    "name": "ipython",
    "version": 3
   },
   "file_extension": ".py",
   "mimetype": "text/x-python",
   "name": "python",
   "nbconvert_exporter": "python",
   "pygments_lexer": "ipython3",
   "version": "3.9.7"
  }
 },
 "nbformat": 4,
 "nbformat_minor": 5
}
